{
 "cells": [
  {
   "cell_type": "code",
   "execution_count": null,
   "metadata": {},
   "outputs": [],
   "source": [
    "using MLJ\n",
    "using CSV\n",
    "using DataFrames\n",
    "using StatsPlots\n",
    "using Random"
   ]
  },
  {
   "cell_type": "code",
   "execution_count": null,
   "metadata": {},
   "outputs": [],
   "source": [
    "data = CSV.read(\"CASP.csv\");\n",
    "@show schema(data).scitypes\n",
    "@show schema(data)\n",
    "first(data, 4)"
   ]
  },
  {
   "cell_type": "code",
   "execution_count": null,
   "metadata": {},
   "outputs": [],
   "source": [
    "coerce!(data, Count=>Continuous);"
   ]
  },
  {
   "cell_type": "code",
   "execution_count": null,
   "metadata": {},
   "outputs": [],
   "source": [
    "describe(data)"
   ]
  },
  {
   "cell_type": "code",
   "execution_count": null,
   "metadata": {},
   "outputs": [],
   "source": [
    "histogram(data[\"RMSD\"], bins = :scott )"
   ]
  },
  {
   "cell_type": "code",
   "execution_count": null,
   "metadata": {},
   "outputs": [],
   "source": [
    "@df data corrplot(cols(1:4))"
   ]
  },
  {
   "cell_type": "code",
   "execution_count": null,
   "metadata": {},
   "outputs": [],
   "source": [
    "@df data corrplot(cols(5:8))"
   ]
  },
  {
   "cell_type": "code",
   "execution_count": null,
   "metadata": {},
   "outputs": [],
   "source": [
    "y,X= unpack(data,==(:RMSD),colname -> true);"
   ]
  },
  {
   "cell_type": "code",
   "execution_count": null,
   "metadata": {},
   "outputs": [],
   "source": [
    "models() do model\n",
    "    matching(model, X, y) \n",
    "end"
   ]
  },
  {
   "cell_type": "code",
   "execution_count": null,
   "metadata": {},
   "outputs": [],
   "source": [
    "train, test = partition(eachindex(y), 0.8,shuffle=true,rng=42)"
   ]
  },
  {
   "cell_type": "code",
   "execution_count": null,
   "metadata": {},
   "outputs": [],
   "source": [
    "#RandomForestRegressor, ElasticNetCVRegressor, BayesianRidgeRegressor, SVMRegressor, DecisionTreeRegressor, AdaBoostRegressor\n",
    "measures()"
   ]
  },
  {
   "cell_type": "code",
   "execution_count": null,
   "metadata": {},
   "outputs": [],
   "source": [
    "Random.seed!(1234);\n",
    "model_rf=@load RandomForestRegressor() pkg=\"DecisionTree\"\n",
    "model_rf=machine(model_rf,X,y)\n",
    "\n",
    "eval_rf=evaluate!(model_rf, rows=train, resampling=CV(nfolds=10,shuffle=true,rng=42), measures=[mae,rms])\n",
    "eval_rf.measurement"
   ]
  },
  {
   "cell_type": "code",
   "execution_count": null,
   "metadata": {},
   "outputs": [],
   "source": [
    "Random.seed!(1234);\n",
    "model_elnet=@load ElasticNetCVRegressor() \n",
    "model_elnet=machine(model_elnet,X,y)\n",
    "\n",
    "eval_elnet=evaluate!(model_elnet, rows=train, resampling=CV(nfolds=10,shuffle=true,rng=42), measures=[mae,rms])\n",
    "eval_elnet.measurement"
   ]
  },
  {
   "cell_type": "code",
   "execution_count": null,
   "metadata": {},
   "outputs": [],
   "source": [
    "Random.seed!(1234);\n",
    "model_svr=@load SVMRegressor() \n",
    "model_svr=machine(model_svr,X,y)\n",
    "\n",
    "eval_svr=evaluate!(model_svr, rows=train, resampling=CV(nfolds=10,shuffle=true,rng=42), measures=[mae,rms])\n",
    "eval_svr.measurement"
   ]
  },
  {
   "cell_type": "code",
   "execution_count": null,
   "metadata": {},
   "outputs": [],
   "source": [
    "Random.seed!(1234);\n",
    "model_bayes=@load BayesianRidgeRegressor() \n",
    "model_bayes=machine(model_bayes,X,y)\n",
    "\n",
    "eval_bayes=evaluate!(model_bayes, rows=train, resampling=CV(nfolds=10,shuffle=true,rng=42), measures=[mae,rms])\n",
    "eval_bayes.measurement"
   ]
  },
  {
   "cell_type": "code",
   "execution_count": null,
   "metadata": {},
   "outputs": [],
   "source": [
    "Random.seed!(1234);\n",
    "model_adabo=@load AdaBoostRegressor() \n",
    "model_adabo=machine(model_adabo,X,y)\n",
    "\n",
    "eval_boost=evaluate!(model_adabo, rows=train, resampling=CV(nfolds=10,shuffle=true,rng=42), measures=[mae,rms])\n",
    "eval_boost.measurement"
   ]
  },
  {
   "cell_type": "code",
   "execution_count": null,
   "metadata": {},
   "outputs": [],
   "source": [
    "bar([eval_rf.measurement[1],eval_boost.measurement[1],eval_bayes.measurement[1],eval_svr.measurement[1],eval_elnet.measurement[1]])"
   ]
  },
  {
   "cell_type": "code",
   "execution_count": null,
   "metadata": {},
   "outputs": [],
   "source": [
    "#grid search for rf, elasticnet and bayes"
   ]
  },
  {
   "cell_type": "code",
   "execution_count": null,
   "metadata": {},
   "outputs": [],
   "source": []
  }
 ],
 "metadata": {
  "kernelspec": {
   "display_name": "Julia 1.5.2",
   "language": "julia",
   "name": "julia-1.5"
  },
  "language_info": {
   "file_extension": ".jl",
   "mimetype": "application/julia",
   "name": "julia",
   "version": "1.5.2"
  }
 },
 "nbformat": 4,
 "nbformat_minor": 4
}
