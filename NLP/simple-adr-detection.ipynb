{
 "cells": [
  {
   "cell_type": "code",
   "execution_count": 15,
   "metadata": {},
   "outputs": [],
   "source": [
    "import os\n",
    "import pandas as pd\n",
    "from sklearn.model_selection import train_test_split\n",
    "import numpy as np"
   ]
  },
  {
   "cell_type": "markdown",
   "metadata": {},
   "source": [
    "* Column-1: PubMed-ID\n",
    "* Column-2: Sentence \n",
    "* Column-3: Adverse-Effect\n",
    "* Column-4: Begin offset of Adverse-Effect at 'document level'\n",
    "* Column-5: End offset of Adverse-Effect at 'document level'\n",
    "* Column-6: Drug\n",
    "* Column-7: Begin offset of Drug at 'document level'\n",
    "* Column-8: End offset of Drug at 'document level'"
   ]
  },
  {
   "cell_type": "code",
   "execution_count": 3,
   "metadata": {},
   "outputs": [
    {
     "data": {
      "text/html": [
       "<div>\n",
       "<style scoped>\n",
       "    .dataframe tbody tr th:only-of-type {\n",
       "        vertical-align: middle;\n",
       "    }\n",
       "\n",
       "    .dataframe tbody tr th {\n",
       "        vertical-align: top;\n",
       "    }\n",
       "\n",
       "    .dataframe thead th {\n",
       "        text-align: right;\n",
       "    }\n",
       "</style>\n",
       "<table border=\"1\" class=\"dataframe\">\n",
       "  <thead>\n",
       "    <tr style=\"text-align: right;\">\n",
       "      <th></th>\n",
       "      <th>pubmedId</th>\n",
       "      <th>sentence</th>\n",
       "      <th>ADE</th>\n",
       "      <th>begin_offset_ade</th>\n",
       "      <th>end_offset_ade</th>\n",
       "      <th>drug</th>\n",
       "      <th>begin_offset_drug</th>\n",
       "      <th>end_offset_drug</th>\n",
       "    </tr>\n",
       "  </thead>\n",
       "  <tbody>\n",
       "    <tr>\n",
       "      <th>0</th>\n",
       "      <td>10030778</td>\n",
       "      <td>Intravenous azithromycin-induced ototoxicity.</td>\n",
       "      <td>ototoxicity</td>\n",
       "      <td>43</td>\n",
       "      <td>54</td>\n",
       "      <td>azithromycin</td>\n",
       "      <td>22</td>\n",
       "      <td>34</td>\n",
       "    </tr>\n",
       "    <tr>\n",
       "      <th>1</th>\n",
       "      <td>10048291</td>\n",
       "      <td>Immobilization, while Paget's bone disease was...</td>\n",
       "      <td>increased calcium-release</td>\n",
       "      <td>960</td>\n",
       "      <td>985</td>\n",
       "      <td>dihydrotachysterol</td>\n",
       "      <td>908</td>\n",
       "      <td>926</td>\n",
       "    </tr>\n",
       "    <tr>\n",
       "      <th>2</th>\n",
       "      <td>10048291</td>\n",
       "      <td>Unaccountable severe hypercalcemia in a patien...</td>\n",
       "      <td>hypercalcemia</td>\n",
       "      <td>31</td>\n",
       "      <td>44</td>\n",
       "      <td>dihydrotachysterol</td>\n",
       "      <td>94</td>\n",
       "      <td>112</td>\n",
       "    </tr>\n",
       "  </tbody>\n",
       "</table>\n",
       "</div>"
      ],
      "text/plain": [
       "   pubmedId                                           sentence  \\\n",
       "0  10030778      Intravenous azithromycin-induced ototoxicity.   \n",
       "1  10048291  Immobilization, while Paget's bone disease was...   \n",
       "2  10048291  Unaccountable severe hypercalcemia in a patien...   \n",
       "\n",
       "                         ADE  begin_offset_ade  end_offset_ade  \\\n",
       "0                ototoxicity                43              54   \n",
       "1  increased calcium-release               960             985   \n",
       "2              hypercalcemia                31              44   \n",
       "\n",
       "                 drug  begin_offset_drug  end_offset_drug  \n",
       "0        azithromycin                 22               34  \n",
       "1  dihydrotachysterol                908              926  \n",
       "2  dihydrotachysterol                 94              112  "
      ]
     },
     "execution_count": 3,
     "metadata": {},
     "output_type": "execute_result"
    }
   ],
   "source": [
    "# https://sites.google.com/site/adecorpus/\n",
    "drug_ae=pd.read_csv(\"/mnt/c/Users/joaof/Downloads/ADE-Corpus-V2/DRUG-AE.rel\",sep=\"|\",header=None)\n",
    "drug_ae.columns=[\"pubmedId\",\"sentence\",\"ADE\",\"begin_offset_ade\",\"end_offset_ade\",\"drug\",\"begin_offset_drug\",\"end_offset_drug\"]\n",
    "drug_ae.head(3)"
   ]
  },
  {
   "cell_type": "code",
   "execution_count": 4,
   "metadata": {},
   "outputs": [],
   "source": [
    "drug_neg=pd.read_csv(\"/mnt/c/Users/joaof/Downloads/ADE-Corpus-V2/ADE-NEG.txt\",sep=\"|\",header=None)\n",
    "drug_neg[\"pubmedId\"]=drug_neg[0].apply(lambda x: x.split()[0])\n",
    "drug_neg[\"sentence\"]=drug_neg[0].apply(lambda x: \" \".join(x.split()[2:]))\n",
    "drug_neg.drop(columns=[0],inplace=True)"
   ]
  },
  {
   "cell_type": "code",
   "execution_count": 5,
   "metadata": {},
   "outputs": [
    {
     "data": {
      "text/html": [
       "<div>\n",
       "<style scoped>\n",
       "    .dataframe tbody tr th:only-of-type {\n",
       "        vertical-align: middle;\n",
       "    }\n",
       "\n",
       "    .dataframe tbody tr th {\n",
       "        vertical-align: top;\n",
       "    }\n",
       "\n",
       "    .dataframe thead th {\n",
       "        text-align: right;\n",
       "    }\n",
       "</style>\n",
       "<table border=\"1\" class=\"dataframe\">\n",
       "  <thead>\n",
       "    <tr style=\"text-align: right;\">\n",
       "      <th></th>\n",
       "      <th>pubmedId</th>\n",
       "      <th>sentence</th>\n",
       "    </tr>\n",
       "  </thead>\n",
       "  <tbody>\n",
       "    <tr>\n",
       "      <th>0</th>\n",
       "      <td>6460590</td>\n",
       "      <td>Clioquinol intoxication occurring in the treat...</td>\n",
       "    </tr>\n",
       "    <tr>\n",
       "      <th>1</th>\n",
       "      <td>8600337</td>\n",
       "      <td>\"Retinoic acid syndrome\" was prevented with sh...</td>\n",
       "    </tr>\n",
       "    <tr>\n",
       "      <th>2</th>\n",
       "      <td>8402502</td>\n",
       "      <td>BACKGROUND: External beam radiation therapy of...</td>\n",
       "    </tr>\n",
       "    <tr>\n",
       "      <th>3</th>\n",
       "      <td>8700794</td>\n",
       "      <td>Although the enuresis ceased, she developed th...</td>\n",
       "    </tr>\n",
       "    <tr>\n",
       "      <th>4</th>\n",
       "      <td>17662448</td>\n",
       "      <td>A 42-year-old woman had uneventful bilateral l...</td>\n",
       "    </tr>\n",
       "    <tr>\n",
       "      <th>...</th>\n",
       "      <td>...</td>\n",
       "      <td>...</td>\n",
       "    </tr>\n",
       "    <tr>\n",
       "      <th>16690</th>\n",
       "      <td>946400</td>\n",
       "      <td>At autopsy, the liver was found to be small, s...</td>\n",
       "    </tr>\n",
       "    <tr>\n",
       "      <th>16691</th>\n",
       "      <td>16416684</td>\n",
       "      <td>Physical exam revealed a patient with aphasia,...</td>\n",
       "    </tr>\n",
       "    <tr>\n",
       "      <th>16692</th>\n",
       "      <td>7351000</td>\n",
       "      <td>At the time when the leukemia appeared seven o...</td>\n",
       "    </tr>\n",
       "    <tr>\n",
       "      <th>16693</th>\n",
       "      <td>19769520</td>\n",
       "      <td>The American Society for Regional Anesthesia a...</td>\n",
       "    </tr>\n",
       "    <tr>\n",
       "      <th>16694</th>\n",
       "      <td>11300139</td>\n",
       "      <td>Concomitant administration of estradiol result...</td>\n",
       "    </tr>\n",
       "  </tbody>\n",
       "</table>\n",
       "<p>16695 rows × 2 columns</p>\n",
       "</div>"
      ],
      "text/plain": [
       "       pubmedId                                           sentence\n",
       "0       6460590  Clioquinol intoxication occurring in the treat...\n",
       "1       8600337  \"Retinoic acid syndrome\" was prevented with sh...\n",
       "2       8402502  BACKGROUND: External beam radiation therapy of...\n",
       "3       8700794  Although the enuresis ceased, she developed th...\n",
       "4      17662448  A 42-year-old woman had uneventful bilateral l...\n",
       "...         ...                                                ...\n",
       "16690    946400  At autopsy, the liver was found to be small, s...\n",
       "16691  16416684  Physical exam revealed a patient with aphasia,...\n",
       "16692   7351000  At the time when the leukemia appeared seven o...\n",
       "16693  19769520  The American Society for Regional Anesthesia a...\n",
       "16694  11300139  Concomitant administration of estradiol result...\n",
       "\n",
       "[16695 rows x 2 columns]"
      ]
     },
     "execution_count": 5,
     "metadata": {},
     "output_type": "execute_result"
    }
   ],
   "source": [
    "drug_neg"
   ]
  },
  {
   "cell_type": "code",
   "execution_count": 6,
   "metadata": {},
   "outputs": [
    {
     "data": {
      "text/html": [
       "<div>\n",
       "<style scoped>\n",
       "    .dataframe tbody tr th:only-of-type {\n",
       "        vertical-align: middle;\n",
       "    }\n",
       "\n",
       "    .dataframe tbody tr th {\n",
       "        vertical-align: top;\n",
       "    }\n",
       "\n",
       "    .dataframe thead th {\n",
       "        text-align: right;\n",
       "    }\n",
       "</style>\n",
       "<table border=\"1\" class=\"dataframe\">\n",
       "  <thead>\n",
       "    <tr style=\"text-align: right;\">\n",
       "      <th></th>\n",
       "      <th>pubmedId</th>\n",
       "      <th>sentence</th>\n",
       "    </tr>\n",
       "  </thead>\n",
       "  <tbody>\n",
       "    <tr>\n",
       "      <th>0</th>\n",
       "      <td>6460590</td>\n",
       "      <td>Clioquinol intoxication occurring in the treat...</td>\n",
       "    </tr>\n",
       "    <tr>\n",
       "      <th>1</th>\n",
       "      <td>8600337</td>\n",
       "      <td>\"Retinoic acid syndrome\" was prevented with sh...</td>\n",
       "    </tr>\n",
       "    <tr>\n",
       "      <th>2</th>\n",
       "      <td>8402502</td>\n",
       "      <td>BACKGROUND: External beam radiation therapy of...</td>\n",
       "    </tr>\n",
       "    <tr>\n",
       "      <th>3</th>\n",
       "      <td>8700794</td>\n",
       "      <td>Although the enuresis ceased, she developed th...</td>\n",
       "    </tr>\n",
       "    <tr>\n",
       "      <th>4</th>\n",
       "      <td>17662448</td>\n",
       "      <td>A 42-year-old woman had uneventful bilateral l...</td>\n",
       "    </tr>\n",
       "    <tr>\n",
       "      <th>...</th>\n",
       "      <td>...</td>\n",
       "      <td>...</td>\n",
       "    </tr>\n",
       "    <tr>\n",
       "      <th>16690</th>\n",
       "      <td>946400</td>\n",
       "      <td>At autopsy, the liver was found to be small, s...</td>\n",
       "    </tr>\n",
       "    <tr>\n",
       "      <th>16691</th>\n",
       "      <td>16416684</td>\n",
       "      <td>Physical exam revealed a patient with aphasia,...</td>\n",
       "    </tr>\n",
       "    <tr>\n",
       "      <th>16692</th>\n",
       "      <td>7351000</td>\n",
       "      <td>At the time when the leukemia appeared seven o...</td>\n",
       "    </tr>\n",
       "    <tr>\n",
       "      <th>16693</th>\n",
       "      <td>19769520</td>\n",
       "      <td>The American Society for Regional Anesthesia a...</td>\n",
       "    </tr>\n",
       "    <tr>\n",
       "      <th>16694</th>\n",
       "      <td>11300139</td>\n",
       "      <td>Concomitant administration of estradiol result...</td>\n",
       "    </tr>\n",
       "  </tbody>\n",
       "</table>\n",
       "<p>16695 rows × 2 columns</p>\n",
       "</div>"
      ],
      "text/plain": [
       "       pubmedId                                           sentence\n",
       "0       6460590  Clioquinol intoxication occurring in the treat...\n",
       "1       8600337  \"Retinoic acid syndrome\" was prevented with sh...\n",
       "2       8402502  BACKGROUND: External beam radiation therapy of...\n",
       "3       8700794  Although the enuresis ceased, she developed th...\n",
       "4      17662448  A 42-year-old woman had uneventful bilateral l...\n",
       "...         ...                                                ...\n",
       "16690    946400  At autopsy, the liver was found to be small, s...\n",
       "16691  16416684  Physical exam revealed a patient with aphasia,...\n",
       "16692   7351000  At the time when the leukemia appeared seven o...\n",
       "16693  19769520  The American Society for Regional Anesthesia a...\n",
       "16694  11300139  Concomitant administration of estradiol result...\n",
       "\n",
       "[16695 rows x 2 columns]"
      ]
     },
     "execution_count": 6,
     "metadata": {},
     "output_type": "execute_result"
    }
   ],
   "source": [
    "drug_neg[~drug_neg[\"pubmedId\"].isin(drug_ae[\"pubmedId\"])].dropna()"
   ]
  },
  {
   "cell_type": "code",
   "execution_count": 152,
   "metadata": {},
   "outputs": [
    {
     "data": {
      "text/html": [
       "<div>\n",
       "<style scoped>\n",
       "    .dataframe tbody tr th:only-of-type {\n",
       "        vertical-align: middle;\n",
       "    }\n",
       "\n",
       "    .dataframe tbody tr th {\n",
       "        vertical-align: top;\n",
       "    }\n",
       "\n",
       "    .dataframe thead th {\n",
       "        text-align: right;\n",
       "    }\n",
       "</style>\n",
       "<table border=\"1\" class=\"dataframe\">\n",
       "  <thead>\n",
       "    <tr style=\"text-align: right;\">\n",
       "      <th></th>\n",
       "      <th>pubmedId</th>\n",
       "      <th>sentence</th>\n",
       "    </tr>\n",
       "  </thead>\n",
       "  <tbody>\n",
       "    <tr>\n",
       "      <th>13444</th>\n",
       "      <td>16368918</td>\n",
       "      <td>Prior to beginning therapy with these antiretr...</td>\n",
       "    </tr>\n",
       "    <tr>\n",
       "      <th>3656</th>\n",
       "      <td>9106383</td>\n",
       "      <td>They discuss related literature reports of man...</td>\n",
       "    </tr>\n",
       "    <tr>\n",
       "      <th>7226</th>\n",
       "      <td>7880678</td>\n",
       "      <td>Both procedures were uncomplicated until about...</td>\n",
       "    </tr>\n",
       "    <tr>\n",
       "      <th>4794</th>\n",
       "      <td>15685264</td>\n",
       "      <td>Adding Dantrolene and Oxybutynin elevated the ...</td>\n",
       "    </tr>\n",
       "    <tr>\n",
       "      <th>8865</th>\n",
       "      <td>18221983</td>\n",
       "      <td>Use of tumor necrosis factor-alpha inhibitors ...</td>\n",
       "    </tr>\n",
       "    <tr>\n",
       "      <th>...</th>\n",
       "      <td>...</td>\n",
       "      <td>...</td>\n",
       "    </tr>\n",
       "    <tr>\n",
       "      <th>12056</th>\n",
       "      <td>2483959</td>\n",
       "      <td>In this patient a single plasma exchange was s...</td>\n",
       "    </tr>\n",
       "    <tr>\n",
       "      <th>10750</th>\n",
       "      <td>11225532</td>\n",
       "      <td>Three days later, he presented with evidence o...</td>\n",
       "    </tr>\n",
       "    <tr>\n",
       "      <th>3373</th>\n",
       "      <td>16968538</td>\n",
       "      <td>CASE PRESENTATION: A 52-year-old-male was admi...</td>\n",
       "    </tr>\n",
       "    <tr>\n",
       "      <th>14541</th>\n",
       "      <td>7554306</td>\n",
       "      <td>However, physicians must keep in mind the sign...</td>\n",
       "    </tr>\n",
       "    <tr>\n",
       "      <th>5793</th>\n",
       "      <td>12126225</td>\n",
       "      <td>Edema is an adverse event associated with thia...</td>\n",
       "    </tr>\n",
       "  </tbody>\n",
       "</table>\n",
       "<p>1670 rows × 2 columns</p>\n",
       "</div>"
      ],
      "text/plain": [
       "       pubmedId                                           sentence\n",
       "13444  16368918  Prior to beginning therapy with these antiretr...\n",
       "3656    9106383  They discuss related literature reports of man...\n",
       "7226    7880678  Both procedures were uncomplicated until about...\n",
       "4794   15685264  Adding Dantrolene and Oxybutynin elevated the ...\n",
       "8865   18221983  Use of tumor necrosis factor-alpha inhibitors ...\n",
       "...         ...                                                ...\n",
       "12056   2483959  In this patient a single plasma exchange was s...\n",
       "10750  11225532  Three days later, he presented with evidence o...\n",
       "3373   16968538  CASE PRESENTATION: A 52-year-old-male was admi...\n",
       "14541   7554306  However, physicians must keep in mind the sign...\n",
       "5793   12126225  Edema is an adverse event associated with thia...\n",
       "\n",
       "[1670 rows x 2 columns]"
      ]
     },
     "execution_count": 152,
     "metadata": {},
     "output_type": "execute_result"
    }
   ],
   "source": [
    "_,drug_neg_small=train_test_split(drug_neg,test_size=0.1)\n",
    "drug_neg_small"
   ]
  },
  {
   "cell_type": "code",
   "execution_count": 170,
   "metadata": {},
   "outputs": [],
   "source": [
    "full=pd.concat([drug_neg[[\"pubmedId\",\"sentence\"]].assign(target=0),drug_ae[[\"pubmedId\",\"sentence\"]].assign(target=1)])\n",
    "full_small=pd.concat([drug_neg_small[[\"pubmedId\",\"sentence\"]].assign(target=0),drug_ae[[\"pubmedId\",\"sentence\"]].assign(target=1)])"
   ]
  },
  {
   "cell_type": "code",
   "execution_count": 8,
   "metadata": {},
   "outputs": [
    {
     "name": "stdout",
     "output_type": "stream",
     "text": [
      "<class 'pandas.core.frame.DataFrame'>\n",
      "Int64Index: 23516 entries, 0 to 6820\n",
      "Data columns (total 3 columns):\n",
      " #   Column    Non-Null Count  Dtype \n",
      "---  ------    --------------  ----- \n",
      " 0   pubmedId  23516 non-null  object\n",
      " 1   sentence  23516 non-null  object\n",
      " 2   target    23516 non-null  int64 \n",
      "dtypes: int64(1), object(2)\n",
      "memory usage: 734.9+ KB\n"
     ]
    }
   ],
   "source": [
    "full.info()"
   ]
  },
  {
   "cell_type": "code",
   "execution_count": 156,
   "metadata": {},
   "outputs": [
    {
     "name": "stdout",
     "output_type": "stream",
     "text": [
      "<class 'pandas.core.frame.DataFrame'>\n",
      "Int64Index: 8491 entries, 13444 to 6820\n",
      "Data columns (total 3 columns):\n",
      " #   Column    Non-Null Count  Dtype \n",
      "---  ------    --------------  ----- \n",
      " 0   pubmedId  8491 non-null   object\n",
      " 1   sentence  8491 non-null   object\n",
      " 2   target    8491 non-null   int64 \n",
      "dtypes: int64(1), object(2)\n",
      "memory usage: 265.3+ KB\n"
     ]
    }
   ],
   "source": [
    "full_small.info()"
   ]
  },
  {
   "cell_type": "code",
   "execution_count": 9,
   "metadata": {},
   "outputs": [
    {
     "data": {
      "text/plain": [
       "2556"
      ]
     },
     "execution_count": 9,
     "metadata": {},
     "output_type": "execute_result"
    }
   ],
   "source": [
    "full.duplicated().sum()"
   ]
  },
  {
   "cell_type": "code",
   "execution_count": 10,
   "metadata": {},
   "outputs": [],
   "source": [
    "full.drop_duplicates(inplace=True)"
   ]
  },
  {
   "cell_type": "code",
   "execution_count": 11,
   "metadata": {},
   "outputs": [
    {
     "data": {
      "text/html": [
       "<div>\n",
       "<style scoped>\n",
       "    .dataframe tbody tr th:only-of-type {\n",
       "        vertical-align: middle;\n",
       "    }\n",
       "\n",
       "    .dataframe tbody tr th {\n",
       "        vertical-align: top;\n",
       "    }\n",
       "\n",
       "    .dataframe thead th {\n",
       "        text-align: right;\n",
       "    }\n",
       "</style>\n",
       "<table border=\"1\" class=\"dataframe\">\n",
       "  <thead>\n",
       "    <tr style=\"text-align: right;\">\n",
       "      <th></th>\n",
       "      <th>pubmedId</th>\n",
       "      <th>sentence</th>\n",
       "      <th>target</th>\n",
       "    </tr>\n",
       "  </thead>\n",
       "  <tbody>\n",
       "    <tr>\n",
       "      <th>0</th>\n",
       "      <td>6460590</td>\n",
       "      <td>Clioquinol intoxication occurring in the treat...</td>\n",
       "      <td>0</td>\n",
       "    </tr>\n",
       "    <tr>\n",
       "      <th>1</th>\n",
       "      <td>8600337</td>\n",
       "      <td>\"Retinoic acid syndrome\" was prevented with sh...</td>\n",
       "      <td>0</td>\n",
       "    </tr>\n",
       "    <tr>\n",
       "      <th>2</th>\n",
       "      <td>8402502</td>\n",
       "      <td>BACKGROUND: External beam radiation therapy of...</td>\n",
       "      <td>0</td>\n",
       "    </tr>\n",
       "    <tr>\n",
       "      <th>3</th>\n",
       "      <td>8700794</td>\n",
       "      <td>Although the enuresis ceased, she developed th...</td>\n",
       "      <td>0</td>\n",
       "    </tr>\n",
       "    <tr>\n",
       "      <th>4</th>\n",
       "      <td>17662448</td>\n",
       "      <td>A 42-year-old woman had uneventful bilateral l...</td>\n",
       "      <td>0</td>\n",
       "    </tr>\n",
       "  </tbody>\n",
       "</table>\n",
       "</div>"
      ],
      "text/plain": [
       "   pubmedId                                           sentence  target\n",
       "0   6460590  Clioquinol intoxication occurring in the treat...       0\n",
       "1   8600337  \"Retinoic acid syndrome\" was prevented with sh...       0\n",
       "2   8402502  BACKGROUND: External beam radiation therapy of...       0\n",
       "3   8700794  Although the enuresis ceased, she developed th...       0\n",
       "4  17662448  A 42-year-old woman had uneventful bilateral l...       0"
      ]
     },
     "execution_count": 11,
     "metadata": {},
     "output_type": "execute_result"
    }
   ],
   "source": [
    "full.head(5)"
   ]
  },
  {
   "cell_type": "code",
   "execution_count": 173,
   "metadata": {},
   "outputs": [
    {
     "name": "stdout",
     "output_type": "stream",
     "text": [
      "<class 'pandas.core.frame.DataFrame'>\n",
      "Int64Index: 2352 entries, 5449 to 6587\n",
      "Data columns (total 3 columns):\n",
      " #   Column    Non-Null Count  Dtype \n",
      "---  ------    --------------  ----- \n",
      " 0   pubmedId  2352 non-null   object\n",
      " 1   sentence  2352 non-null   object\n",
      " 2   target    2352 non-null   int64 \n",
      "dtypes: int64(1), object(2)\n",
      "memory usage: 73.5+ KB\n",
      "<class 'pandas.core.frame.DataFrame'>\n",
      "Int64Index: 680 entries, 5952 to 2159\n",
      "Data columns (total 3 columns):\n",
      " #   Column    Non-Null Count  Dtype \n",
      "---  ------    --------------  ----- \n",
      " 0   pubmedId  680 non-null    object\n",
      " 1   sentence  680 non-null    object\n",
      " 2   target    680 non-null    int64 \n",
      "dtypes: int64(1), object(2)\n",
      "memory usage: 21.2+ KB\n"
     ]
    },
    {
     "data": {
      "text/plain": [
       "(None, None)"
      ]
     },
     "execution_count": 173,
     "metadata": {},
     "output_type": "execute_result"
    }
   ],
   "source": [
    "_,s1=train_test_split(full,test_size=0.1,stratify=full[\"target\"])\n",
    "_,s2=train_test_split(full_small,test_size=0.08,stratify=full_small[\"target\"])\n",
    "s1.info(),s2.info()"
   ]
  },
  {
   "cell_type": "code",
   "execution_count": 3,
   "metadata": {},
   "outputs": [],
   "source": [
    "s1=pd.read_csv(\"abstract_small_balanced.csv\")"
   ]
  },
  {
   "cell_type": "code",
   "execution_count": 177,
   "metadata": {},
   "outputs": [
    {
     "data": {
      "text/plain": [
       "(0    1670\n",
       " 1     682\n",
       " Name: target, dtype: int64,\n",
       " 1    546\n",
       " 0    134\n",
       " Name: target, dtype: int64)"
      ]
     },
     "execution_count": 177,
     "metadata": {},
     "output_type": "execute_result"
    }
   ],
   "source": [
    "s1[\"target\"].value_counts(),s2[\"target\"].value_counts()"
   ]
  },
  {
   "cell_type": "code",
   "execution_count": 178,
   "metadata": {},
   "outputs": [
    {
     "name": "stdout",
     "output_type": "stream",
     "text": [
      "CPU times: user 24.9 s, sys: 795 ms, total: 25.7 s\n",
      "Wall time: 10min 23s\n"
     ]
    },
    {
     "name": "stderr",
     "output_type": "stream",
     "text": [
      "/home/john/.conda/envs/pubmed/lib/python3.8/site-packages/pandas/core/indexing.py:1596: SettingWithCopyWarning: \n",
      "A value is trying to be set on a copy of a slice from a DataFrame.\n",
      "Try using .loc[row_indexer,col_indexer] = value instead\n",
      "\n",
      "See the caveats in the documentation: https://pandas.pydata.org/pandas-docs/stable/user_guide/indexing.html#returning-a-view-versus-a-copy\n",
      "  self.obj[key] = _infer_fill_value(value)\n",
      "/home/john/.conda/envs/pubmed/lib/python3.8/site-packages/pandas/core/indexing.py:1745: SettingWithCopyWarning: \n",
      "A value is trying to be set on a copy of a slice from a DataFrame.\n",
      "Try using .loc[row_indexer,col_indexer] = value instead\n",
      "\n",
      "See the caveats in the documentation: https://pandas.pydata.org/pandas-docs/stable/user_guide/indexing.html#returning-a-view-versus-a-copy\n",
      "  isetter(ilocs[0], value)\n"
     ]
    }
   ],
   "source": [
    "%%time\n",
    "import time\n",
    "i=0\n",
    "fetch = PubMedFetcher()\n",
    "def get_abstract(row):\n",
    "    global i\n",
    "    global fetch\n",
    "    i+=1\n",
    "    try:\n",
    "        article = fetch.article_by_pmid(row[\"pubmedId\"])\n",
    "        time.sleep(0.1)\n",
    "        return article.abstract\n",
    "    except:\n",
    "        return \"none\"\n",
    "#s1.loc[:,\"abstract\"]=s1.apply(get_abstract,axis=1)\n",
    "s2.loc[:,\"abstract\"]=s2.apply(get_abstract,axis=1)"
   ]
  },
  {
   "cell_type": "code",
   "execution_count": 179,
   "metadata": {},
   "outputs": [
    {
     "name": "stdout",
     "output_type": "stream",
     "text": [
      "CPU times: user 6 µs, sys: 0 ns, total: 6 µs\n",
      "Wall time: 10.3 µs\n"
     ]
    },
    {
     "data": {
      "text/html": [
       "<div>\n",
       "<style scoped>\n",
       "    .dataframe tbody tr th:only-of-type {\n",
       "        vertical-align: middle;\n",
       "    }\n",
       "\n",
       "    .dataframe tbody tr th {\n",
       "        vertical-align: top;\n",
       "    }\n",
       "\n",
       "    .dataframe thead th {\n",
       "        text-align: right;\n",
       "    }\n",
       "</style>\n",
       "<table border=\"1\" class=\"dataframe\">\n",
       "  <thead>\n",
       "    <tr style=\"text-align: right;\">\n",
       "      <th></th>\n",
       "      <th>pubmedId</th>\n",
       "      <th>sentence</th>\n",
       "      <th>target</th>\n",
       "      <th>abstract</th>\n",
       "    </tr>\n",
       "  </thead>\n",
       "  <tbody>\n",
       "    <tr>\n",
       "      <th>5952</th>\n",
       "      <td>8700794</td>\n",
       "      <td>When vague symptoms develop during desmopressi...</td>\n",
       "      <td>1</td>\n",
       "      <td>Desmopressin is a commonly used, well-tolerate...</td>\n",
       "    </tr>\n",
       "    <tr>\n",
       "      <th>4894</th>\n",
       "      <td>6221046</td>\n",
       "      <td>Multiple complications of propylthiouracil tre...</td>\n",
       "      <td>1</td>\n",
       "      <td>An association of granulocytopenia, eosinophil...</td>\n",
       "    </tr>\n",
       "    <tr>\n",
       "      <th>5656</th>\n",
       "      <td>8192712</td>\n",
       "      <td>Hyperammonemia secondary to valproic acid as a...</td>\n",
       "      <td>1</td>\n",
       "      <td>Hyperammonemia has been described as a complic...</td>\n",
       "    </tr>\n",
       "    <tr>\n",
       "      <th>4286</th>\n",
       "      <td>2924444</td>\n",
       "      <td>Acute myocardial infarction due to coronary sp...</td>\n",
       "      <td>1</td>\n",
       "      <td>A 63-year-old man with hypothyroidism is descr...</td>\n",
       "    </tr>\n",
       "    <tr>\n",
       "      <th>5985</th>\n",
       "      <td>8742573</td>\n",
       "      <td>CASE: We report a case of a woman with severe ...</td>\n",
       "      <td>1</td>\n",
       "      <td>OBJECTIVE: To evaluate the efficacy of the adm...</td>\n",
       "    </tr>\n",
       "    <tr>\n",
       "      <th>...</th>\n",
       "      <td>...</td>\n",
       "      <td>...</td>\n",
       "      <td>...</td>\n",
       "      <td>...</td>\n",
       "    </tr>\n",
       "    <tr>\n",
       "      <th>2089</th>\n",
       "      <td>11319599</td>\n",
       "      <td>Fungal arthritis and osteomyelitis are rare an...</td>\n",
       "      <td>0</td>\n",
       "      <td>Fungal arthritis and osteomyelitis are rare an...</td>\n",
       "    </tr>\n",
       "    <tr>\n",
       "      <th>4102</th>\n",
       "      <td>2332596</td>\n",
       "      <td>Phenobarbital hepatotoxicity in an 8-month-old...</td>\n",
       "      <td>1</td>\n",
       "      <td>Severe hepatotoxicity from phenobarbital occur...</td>\n",
       "    </tr>\n",
       "    <tr>\n",
       "      <th>102</th>\n",
       "      <td>10467499</td>\n",
       "      <td>A 22-year-old black man developed fever, chill...</td>\n",
       "      <td>1</td>\n",
       "      <td>A 22-year-old black man developed fever, chill...</td>\n",
       "    </tr>\n",
       "    <tr>\n",
       "      <th>3874</th>\n",
       "      <td>20110001</td>\n",
       "      <td>Flare of Kaposi's sarcoma (KS) is well describ...</td>\n",
       "      <td>1</td>\n",
       "      <td>BACKGROUND: Chronic myeloid leukemia (CML) is ...</td>\n",
       "    </tr>\n",
       "    <tr>\n",
       "      <th>2159</th>\n",
       "      <td>160443</td>\n",
       "      <td>Transient global amnesia after clioquinol: fiv...</td>\n",
       "      <td>1</td>\n",
       "      <td>Five personal observations of an acute amnesti...</td>\n",
       "    </tr>\n",
       "  </tbody>\n",
       "</table>\n",
       "<p>680 rows × 4 columns</p>\n",
       "</div>"
      ],
      "text/plain": [
       "      pubmedId                                           sentence  target  \\\n",
       "5952   8700794  When vague symptoms develop during desmopressi...       1   \n",
       "4894   6221046  Multiple complications of propylthiouracil tre...       1   \n",
       "5656   8192712  Hyperammonemia secondary to valproic acid as a...       1   \n",
       "4286   2924444  Acute myocardial infarction due to coronary sp...       1   \n",
       "5985   8742573  CASE: We report a case of a woman with severe ...       1   \n",
       "...        ...                                                ...     ...   \n",
       "2089  11319599  Fungal arthritis and osteomyelitis are rare an...       0   \n",
       "4102   2332596  Phenobarbital hepatotoxicity in an 8-month-old...       1   \n",
       "102   10467499  A 22-year-old black man developed fever, chill...       1   \n",
       "3874  20110001  Flare of Kaposi's sarcoma (KS) is well describ...       1   \n",
       "2159    160443  Transient global amnesia after clioquinol: fiv...       1   \n",
       "\n",
       "                                               abstract  \n",
       "5952  Desmopressin is a commonly used, well-tolerate...  \n",
       "4894  An association of granulocytopenia, eosinophil...  \n",
       "5656  Hyperammonemia has been described as a complic...  \n",
       "4286  A 63-year-old man with hypothyroidism is descr...  \n",
       "5985  OBJECTIVE: To evaluate the efficacy of the adm...  \n",
       "...                                                 ...  \n",
       "2089  Fungal arthritis and osteomyelitis are rare an...  \n",
       "4102  Severe hepatotoxicity from phenobarbital occur...  \n",
       "102   A 22-year-old black man developed fever, chill...  \n",
       "3874  BACKGROUND: Chronic myeloid leukemia (CML) is ...  \n",
       "2159  Five personal observations of an acute amnesti...  \n",
       "\n",
       "[680 rows x 4 columns]"
      ]
     },
     "execution_count": 179,
     "metadata": {},
     "output_type": "execute_result"
    }
   ],
   "source": [
    "%%time\n",
    "s2\n",
    "s2.to_csv(\"abstract_small_balanced.csv\",index=False)\n"
   ]
  },
  {
   "cell_type": "code",
   "execution_count": 354,
   "metadata": {},
   "outputs": [
    {
     "name": "stdout",
     "output_type": "stream",
     "text": [
      "(544,) (136,) (18812,) (4704,)\n"
     ]
    }
   ],
   "source": [
    "from sklearn.model_selection import train_test_split\n",
    "abstracts = s2['abstract']\n",
    "y = s2['target']\n",
    "\n",
    "abstract_train, abstract_test, abstract_y_train, abstract_y_test = train_test_split(abstracts, y, test_size=0.20, random_state=1000)\n",
    "print(abstract_train.shape,abstract_test.shape,y_train.shape,y_test.shape)"
   ]
  },
  {
   "cell_type": "code",
   "execution_count": 212,
   "metadata": {},
   "outputs": [
    {
     "name": "stderr",
     "output_type": "stream",
     "text": [
      "[nltk_data] Downloading package punkt to /home/john/nltk_data...\n",
      "[nltk_data]   Package punkt is already up-to-date!\n",
      "[nltk_data] Downloading package wordnet to /home/john/nltk_data...\n",
      "[nltk_data]   Package wordnet is already up-to-date!\n",
      "[nltk_data] Downloading package stopwords to /home/john/nltk_data...\n",
      "[nltk_data]   Unzipping corpora/stopwords.zip.\n"
     ]
    },
    {
     "data": {
      "text/plain": [
       "['This',\n",
       " 'should',\n",
       " 'be',\n",
       " 'tokenized',\n",
       " '.',\n",
       " '02/02/2018',\n",
       " 'sentence',\n",
       " 'has',\n",
       " 'stars',\n",
       " '*',\n",
       " '*']"
      ]
     },
     "execution_count": 212,
     "metadata": {},
     "output_type": "execute_result"
    }
   ],
   "source": [
    "import nltk\n",
    "nltk.download('punkt')\n",
    "nltk.download('wordnet')\n",
    "nltk.download('stopwords')\n",
    "from nltk import word_tokenize\n",
    "word_tokenize('This should be tokenized. 02/02/2018 sentence has stars**')"
   ]
  },
  {
   "cell_type": "code",
   "execution_count": 181,
   "metadata": {},
   "outputs": [
    {
     "data": {
      "text/plain": [
       "['this',\n",
       " 'should',\n",
       " 'be',\n",
       " 'tokenized',\n",
       " 'sentence',\n",
       " 'has',\n",
       " 'stars',\n",
       " 'token',\n",
       " 'sentences']"
      ]
     },
     "execution_count": 181,
     "metadata": {},
     "output_type": "execute_result"
    }
   ],
   "source": [
    "import string\n",
    "def tokenizer_better(text):\n",
    "    # tokenize the text by replacing punctuation and numbers with spaces and lowercase all words\n",
    "    \n",
    "    punc_list = string.punctuation+'0123456789'\n",
    "    t = str.maketrans(dict.fromkeys(punc_list, \" \"))\n",
    "    text = text.lower().translate(t)\n",
    "    tokens = word_tokenize(text)\n",
    "    return tokens\n",
    "tokenizer_better('This should be tokenized. 02/02/2018 sentence has stars** token sentences')"
   ]
  },
  {
   "cell_type": "code",
   "execution_count": 229,
   "metadata": {},
   "outputs": [],
   "source": [
    "from nltk.stem import PorterStemmer, WordNetLemmatizer\n",
    "from nltk.tokenize import word_tokenize \n",
    "from nltk.stem.snowball import SnowballStemmer\n",
    "\n",
    "\n",
    "class LemmaTokenizer:\n",
    "    def __init__(self):\n",
    "        self.wnl = WordNetLemmatizer()\n",
    "    def __call__(self, doc):\n",
    "        return [self.wnl.lemmatize(t) for t in word_tokenize(doc)]\n",
    "\n",
    "class StemTokenizer:\n",
    "    def __init__(self):\n",
    "        self.ps = PorterStemmer()\n",
    "    def __call__(self, doc):\n",
    "        return [self.ps.stem(t) for t in tokenizer_better(doc)]\n",
    "\n",
    "stemmer = SnowballStemmer(\"english\", ignore_stopwords=True)\n",
    "class StemmedCountVectorizer(CountVectorizer):\n",
    "    def build_analyzer(self):\n",
    "        analyzer = super(StemmedCountVectorizer, self).build_analyzer()\n",
    "        return lambda doc: ([stemmer.stem(w) for w in analyzer(doc)])\n",
    "stemmed_count_vect = StemmedCountVectorizer(stop_words='english')\n"
   ]
  },
  {
   "cell_type": "code",
   "execution_count": 248,
   "metadata": {},
   "outputs": [
    {
     "name": "stderr",
     "output_type": "stream",
     "text": [
      "/home/john/.conda/envs/pubmed/lib/python3.8/site-packages/sklearn/feature_extraction/text.py:484: UserWarning: The parameter 'token_pattern' will not be used since 'tokenizer' is not None'\n",
      "  warnings.warn(\"The parameter 'token_pattern' will not be used\"\n"
     ]
    },
    {
     "data": {
      "text/plain": [
       "<544x5030 sparse matrix of type '<class 'numpy.int64'>'\n",
       "\twith 32308 stored elements in Compressed Sparse Row format>"
      ]
     },
     "execution_count": 248,
     "metadata": {},
     "output_type": "execute_result"
    }
   ],
   "source": [
    "from sklearn.feature_extraction.text import CountVectorizer\n",
    "\n",
    "vectorizer = CountVectorizer(stop_words=\"english\",tokenizer=StemTokenizer())\n",
    "vectorizer = StemmedCountVectorizer(stop_words='english',tokenizer=tokenizer_better)\n",
    "\n",
    "vectorizer.fit(abstract_train)\n",
    "X_train = vectorizer.transform(abstract_train)\n",
    "X_test  = vectorizer.transform(abstract_test)\n",
    "X_train"
   ]
  },
  {
   "cell_type": "code",
   "execution_count": 250,
   "metadata": {},
   "outputs": [],
   "source": [
    "from sklearn.feature_extraction.text import TfidfTransformer\n",
    "tfidf_transformer = TfidfTransformer()\n",
    "X_train_tfidf = tfidf_transformer.fit_transform(X_train)\n",
    "X_train_tfidf.shape\n",
    "X_test_tfidf= tfidf_transformer.transform(X_test)"
   ]
  },
  {
   "cell_type": "code",
   "execution_count": 251,
   "metadata": {},
   "outputs": [],
   "source": [
    "#As an alternative to mean-centering and scaling,\n",
    "# you can try per-sample normalization with sklearn.preprocessing.Normalizer;\n",
    "# this is appropriate for frequency features (e.g. in text classification).\n",
    "from sklearn.preprocessing import Normalizer\n",
    "normalizer = Normalizer().fit(X_train_tfidf)  # fit does nothing\n",
    "x_normalized=normalizer.transform(X_train_tfidf)\n",
    "x_test_normalized=normalizer.transform(X_test_tfidf)"
   ]
  },
  {
   "cell_type": "code",
   "execution_count": 252,
   "metadata": {},
   "outputs": [
    {
     "data": {
      "text/plain": [
       "1    111\n",
       "0     25\n",
       "Name: target, dtype: int64"
      ]
     },
     "execution_count": 252,
     "metadata": {},
     "output_type": "execute_result"
    }
   ],
   "source": [
    "y_test.value_counts()"
   ]
  },
  {
   "cell_type": "code",
   "execution_count": 253,
   "metadata": {},
   "outputs": [
    {
     "data": {
      "text/plain": [
       "array([[  0,  25],\n",
       "       [  0, 111]])"
      ]
     },
     "execution_count": 253,
     "metadata": {},
     "output_type": "execute_result"
    }
   ],
   "source": [
    "from sklearn.naive_bayes import MultinomialNB\n",
    "clf = MultinomialNB().fit(x_normalized, y_train)\n",
    "predicted = clf.predict(x_test_normalized)\n",
    "\n",
    "confusion_matrix(y_test,predicted)#horrible"
   ]
  },
  {
   "cell_type": "code",
   "execution_count": 255,
   "metadata": {},
   "outputs": [],
   "source": [
    "from sklearn.linear_model import LogisticRegression\n",
    "from sklearn.model_selection import cross_validate\n",
    "from sklearn.model_selection import RepeatedStratifiedKFold\n",
    "\n",
    "cv=RepeatedStratifiedKFold(n_splits=3,random_state=42,n_repeats=3)\n",
    "classifier = LogisticRegression()\n",
    "classifier.fit(x_normalized, y_train)\n",
    "score=cross_validate(classifier,x_test_normalized, y_test,cv=cv,scoring=[\"accuracy\",\"f1\",\"precision\",\"recall\",\"roc_auc\"])"
   ]
  },
  {
   "cell_type": "code",
   "execution_count": 256,
   "metadata": {},
   "outputs": [
    {
     "name": "stdout",
     "output_type": "stream",
     "text": [
      " Accuracy: 0.8162640901771335\n",
      " F1: 0.898814771280243\n",
      " Precision: 0.8162640901771335\n",
      " Recall: 1.0\n",
      " AUC: 0.537203870537204\n",
      " \n"
     ]
    }
   ],
   "source": [
    "print(f\" Accuracy: {score['test_accuracy'].mean()}\\n F1: {score['test_f1'].mean()}\\n Precision: {score['test_precision'].mean()}\\n Recall: {score['test_recall'].mean()}\\n AUC: {score['test_roc_auc'].mean()}\\n \")"
   ]
  },
  {
   "cell_type": "code",
   "execution_count": 257,
   "metadata": {},
   "outputs": [
    {
     "data": {
      "text/plain": [
       "array([[  0,  25],\n",
       "       [  0, 111]])"
      ]
     },
     "execution_count": 257,
     "metadata": {},
     "output_type": "execute_result"
    }
   ],
   "source": [
    "from sklearn.metrics import confusion_matrix\n",
    "\n",
    "y_preds=classifier.predict(x_test_normalized)\n",
    "\n",
    "confusion_matrix(y_test,y_preds)"
   ]
  },
  {
   "cell_type": "code",
   "execution_count": 258,
   "metadata": {},
   "outputs": [],
   "source": [
    "from sklearn.svm import SVC\n",
    "svm = SVC()\n",
    "svm.fit(x_normalized, y_train)\n",
    "svm_score=cross_validate(svm,x_test_normalized, y_test,cv=cv,scoring=[\"accuracy\",\"f1\",\"precision\",\"recall\"])"
   ]
  },
  {
   "cell_type": "code",
   "execution_count": 259,
   "metadata": {},
   "outputs": [
    {
     "name": "stdout",
     "output_type": "stream",
     "text": [
      " Accuracy: 0.8162640901771335\n",
      " F1: 0.898814771280243\n",
      " Precision: 0.8162640901771335\n",
      " Recall: 1.0\n",
      "\n"
     ]
    }
   ],
   "source": [
    "print(f\" Accuracy: {svm_score['test_accuracy'].mean()}\\n F1: {svm_score['test_f1'].mean()}\\n Precision: {svm_score['test_precision'].mean()}\\n Recall: {svm_score['test_recall'].mean()}\\n\")"
   ]
  },
  {
   "cell_type": "code",
   "execution_count": 260,
   "metadata": {},
   "outputs": [
    {
     "data": {
      "text/plain": [
       "array([[  1,  24],\n",
       "       [  0, 111]])"
      ]
     },
     "execution_count": 260,
     "metadata": {},
     "output_type": "execute_result"
    }
   ],
   "source": [
    "from sklearn.metrics import confusion_matrix\n",
    "\n",
    "y_preds=svm.predict(x_test_normalized)\n",
    "\n",
    "confusion_matrix(y_test,y_preds)"
   ]
  },
  {
   "cell_type": "code",
   "execution_count": 288,
   "metadata": {},
   "outputs": [
    {
     "data": {
      "text/plain": [
       "GridSearchCV(cv=RepeatedStratifiedKFold(n_repeats=3, n_splits=3, random_state=42),\n",
       "             estimator=SVC(),\n",
       "             param_grid={'C': [0.01, 0.05, 0.2],\n",
       "                         'kernel': ('linear', 'rbf', 'sigmoid')},\n",
       "             scoring='roc_auc')"
      ]
     },
     "execution_count": 288,
     "metadata": {},
     "output_type": "execute_result"
    }
   ],
   "source": [
    "#grid search\n",
    "from sklearn.model_selection import GridSearchCV\n",
    "parameters = {'kernel':('linear', 'rbf','sigmoid'), 'C':[0.01,0.05,0.2]}\n",
    "svc2 = SVC()\n",
    "clf_s = GridSearchCV(svc2, parameters,cv=cv,scoring=\"roc_auc\")\n",
    "clf_s.fit(x_normalized, y_train)"
   ]
  },
  {
   "cell_type": "code",
   "execution_count": 291,
   "metadata": {},
   "outputs": [
    {
     "data": {
      "text/plain": [
       "SVC(C=0.05, kernel='sigmoid')"
      ]
     },
     "execution_count": 291,
     "metadata": {},
     "output_type": "execute_result"
    }
   ],
   "source": [
    "grid_result=pd.DataFrame(clf_s.cv_results_)\n",
    "grid_result.head(3)\n",
    "clf_s.best_estimator_"
   ]
  },
  {
   "cell_type": "code",
   "execution_count": 320,
   "metadata": {},
   "outputs": [
    {
     "data": {
      "image/png": "[encoded data removed]",
      "text/plain": [
       "<Figure size 432x288 with 1 Axes>"
      ]
     },
     "metadata": {
      "needs_background": "light"
     },
     "output_type": "display_data"
    }
   ],
   "source": [
    "import seaborn as sns\n",
    "ax=sns.scatterplot(data=grid_result[grid_result[\"param_kernel\"]==\"linear\"], x=\"param_C\", y=\"mean_test_score\");\n",
    "ax.errorbar(grid_result[grid_result[\"param_kernel\"]==\"linear\"][\"param_C\"], grid_result[grid_result[\"param_kernel\"]==\"linear\"][\"mean_test_score\"], yerr=grid_result[grid_result[\"param_kernel\"]==\"linear\"][\"std_test_score\"]);"
   ]
  },
  {
   "cell_type": "code",
   "execution_count": 300,
   "metadata": {},
   "outputs": [
    {
     "data": {
      "text/plain": [
       "Index(['mean_fit_time', 'std_fit_time', 'mean_score_time', 'std_score_time',\n",
       "       'param_C', 'param_kernel', 'params', 'split0_test_score',\n",
       "       'split1_test_score', 'split2_test_score', 'split3_test_score',\n",
       "       'split4_test_score', 'split5_test_score', 'split6_test_score',\n",
       "       'split7_test_score', 'split8_test_score', 'mean_test_score',\n",
       "       'std_test_score', 'rank_test_score'],\n",
       "      dtype='object')"
      ]
     },
     "execution_count": 300,
     "metadata": {},
     "output_type": "execute_result"
    }
   ],
   "source": [
    "grid_result.columns"
   ]
  },
  {
   "cell_type": "code",
   "execution_count": 303,
   "metadata": {},
   "outputs": [],
   "source": [
    "import numpy as np"
   ]
  },
  {
   "cell_type": "code",
   "execution_count": 311,
   "metadata": {},
   "outputs": [
    {
     "data": {
      "text/plain": [
       "<seaborn.axisgrid.FacetGrid at 0x7fe6b25cffd0>"
      ]
     },
     "execution_count": 311,
     "metadata": {},
     "output_type": "execute_result"
    },
    {
     "data": {
      "image/png": "[encoded data removed]",
      "text/plain": [
       "<Figure size 400.125x432 with 1 Axes>"
      ]
     },
     "metadata": {
      "needs_background": "light"
     },
     "output_type": "display_data"
    }
   ],
   "source": [
    "# Draw a nested boxplot to show bills by day and time\n",
    "# sns.boxplot(x=\"param_C\", y=\"mean_test_score\",\n",
    "#             hue=\"param_kernel\", palette=[\"m\", \"g\"],\n",
    "#             data=grid_result);\n",
    "# Draw a pointplot to show pulse as a function of three categorical factors\n",
    "g = sns.catplot(x=\"param_C\", y=\"mean_test_score\", hue=\"param_kernel\", \n",
    "                capsize=.2, palette=\"YlGnBu_d\", height=6, aspect=.75,\n",
    "                kind=\"point\", data=grid_result)\n",
    "g.despine(left=True)"
   ]
  },
  {
   "cell_type": "code",
   "execution_count": 297,
   "metadata": {},
   "outputs": [
    {
     "name": "stdout",
     "output_type": "stream",
     "text": [
      " Accuracy: 0.8162640901771335\n",
      " F1: 0.898814771280243\n",
      " Precision: 0.8162640901771335\n",
      " Recall: 1.0\n",
      " AUC: 0.5260677344010678\n",
      "\n"
     ]
    },
    {
     "data": {
      "text/plain": [
       "array([[  0,  25],\n",
       "       [  0, 111]])"
      ]
     },
     "execution_count": 297,
     "metadata": {},
     "output_type": "execute_result"
    }
   ],
   "source": [
    "from sklearn.svm import SVC\n",
    "svm2 = SVC(C=0.2,kernel=\"linear\")\n",
    "svm2.fit(x_normalized, y_train)\n",
    "svm_score2=cross_validate(svm2,x_test_normalized, y_test,cv=cv,scoring=[\"accuracy\",\"f1\",\"precision\",\"recall\",\"roc_auc\"])\n",
    "y_preds2=svm2.predict(x_test_normalized)\n",
    "print(f\" Accuracy: {svm_score2['test_accuracy'].mean()}\\n F1: {svm_score2['test_f1'].mean()}\\n Precision: {svm_score2['test_precision'].mean()}\\n Recall: {svm_score2['test_recall'].mean()}\\n AUC: {svm_score2['test_roc_auc'].mean()}\\n\")\n",
    "confusion_matrix(y_test,y_preds2)"
   ]
  },
  {
   "cell_type": "markdown",
   "metadata": {},
   "source": [
    "## BY SENTENCES"
   ]
  },
  {
   "cell_type": "code",
   "execution_count": 347,
   "metadata": {},
   "outputs": [],
   "source": [
    "from sklearn.model_selection import train_test_split\n",
    "\n",
    "sentences = full['sentence']\n",
    "y = full['target']\n",
    "\n",
    "sentences_train, sentences_test, y_train, y_test = train_test_split(sentences, y, test_size=0.20, random_state=1000)"
   ]
  },
  {
   "cell_type": "code",
   "execution_count": 348,
   "metadata": {},
   "outputs": [
    {
     "data": {
      "text/plain": [
       "<18812x15928 sparse matrix of type '<class 'numpy.int64'>'\n",
       "\twith 319159 stored elements in Compressed Sparse Row format>"
      ]
     },
     "execution_count": 348,
     "metadata": {},
     "output_type": "execute_result"
    }
   ],
   "source": [
    "from sklearn.feature_extraction.text import CountVectorizer\n",
    "\n",
    "vectorizer = CountVectorizer()\n",
    "vectorizer.fit(sentences_train)\n",
    "\n",
    "X_train = vectorizer.transform(sentences_train)\n",
    "X_test  = vectorizer.transform(sentences_test)\n",
    "X_train"
   ]
  },
  {
   "cell_type": "code",
   "execution_count": 349,
   "metadata": {},
   "outputs": [],
   "source": [
    "#As an alternative to mean-centering and scaling,\n",
    "# you can try per-sample normalization with sklearn.preprocessing.Normalizer;\n",
    "# this is appropriate for frequency features (e.g. in text classification).\n",
    "from sklearn.preprocessing import Normalizer\n",
    "normalizer = Normalizer().fit(X_train)  # fit does nothing\n",
    "x_normalized=normalizer.transform(X_train)\n",
    "x_test_normalized=normalizer.transform(X_test)"
   ]
  },
  {
   "cell_type": "code",
   "execution_count": 350,
   "metadata": {},
   "outputs": [],
   "source": [
    "from sklearn.linear_model import LogisticRegression\n",
    "from sklearn.model_selection import cross_validate\n",
    "from sklearn.model_selection import RepeatedStratifiedKFold\n",
    "\n",
    "cv=RepeatedStratifiedKFold(n_splits=20,random_state=42,n_repeats=3)\n",
    "classifier = LogisticRegression()\n",
    "classifier.fit(x_normalized, y_train)\n",
    "score=cross_validate(classifier,x_test_normalized, y_test,cv=cv,scoring=[\"accuracy\",\"f1\",\"precision\",\"recall\",\"roc_auc\"])"
   ]
  },
  {
   "cell_type": "code",
   "execution_count": 362,
   "metadata": {},
   "outputs": [
    {
     "name": "stdout",
     "output_type": "stream",
     "text": [
      " Accuracy: 0.8178149416997234\n",
      " F1: 0.6408267944327338\n",
      " Precision: 0.8071028531115566\n",
      " Recall: 0.5335648148148148\n",
      " ROC_AUC: 0.8852858586740263\n"
     ]
    }
   ],
   "source": [
    "print(f\" Accuracy: {score['test_accuracy'].mean()}\\n F1: {score['test_f1'].mean()}\\n Precision: {score['test_precision'].mean()}\\n Recall: {score['test_recall'].mean()}\\n ROC_AUC: {score['test_roc_auc'].mean()}\")"
   ]
  },
  {
   "cell_type": "code",
   "execution_count": 364,
   "metadata": {},
   "outputs": [],
   "source": [
    "from sklearn.svm import SVC\n",
    "svm = SVC()\n",
    "svm.fit(x_normalized, y_train)\n",
    "svm_score=cross_validate(svm,x_test_normalized, y_test,cv=cv,scoring=[\"accuracy\",\"f1\",\"precision\",\"recall\",\"roc_auc\"])"
   ]
  },
  {
   "cell_type": "code",
   "execution_count": 365,
   "metadata": {},
   "outputs": [
    {
     "name": "stdout",
     "output_type": "stream",
     "text": [
      " Accuracy: 0.848287955283087\n",
      " F1: 0.7100737134017361\n",
      " Precision: 0.8542009316777688\n",
      " Recall: 0.6099537037037037\n",
      " ROC_AUC: 0.9084712852816157\n"
     ]
    }
   ],
   "source": [
    "print(f\" Accuracy: {svm_score['test_accuracy'].mean()}\\n F1: {svm_score['test_f1'].mean()}\\n Precision: {svm_score['test_precision'].mean()}\\n Recall: {svm_score['test_recall'].mean()}\\n ROC_AUC: {svm_score['test_roc_auc'].mean()}\")"
   ]
  },
  {
   "cell_type": "code",
   "execution_count": 366,
   "metadata": {},
   "outputs": [
    {
     "data": {
      "text/plain": [
       "array([[3145,  119],\n",
       "       [ 342, 1098]])"
      ]
     },
     "execution_count": 366,
     "metadata": {},
     "output_type": "execute_result"
    }
   ],
   "source": [
    "from sklearn.metrics import confusion_matrix\n",
    "\n",
    "svc_y_preds=svm.predict(x_test_normalized)\n",
    "\n",
    "confusion_matrix(y_test,svc_y_preds)"
   ]
  },
  {
   "cell_type": "code",
   "execution_count": 374,
   "metadata": {},
   "outputs": [],
   "source": [
    "from sklearn.ensemble import RandomForestClassifier\n",
    "rf = RandomForestClassifier()\n",
    "rf.fit(x_normalized, y_train)\n",
    "rf_score=cross_validate(rf,x_test_normalized, y_test,cv=cv,scoring=[\"accuracy\",\"f1\",\"precision\",\"recall\",\"roc_auc\"])"
   ]
  },
  {
   "cell_type": "code",
   "execution_count": 375,
   "metadata": {},
   "outputs": [
    {
     "name": "stdout",
     "output_type": "stream",
     "text": [
      " Accuracy: 0.8261816324077411\n",
      " F1: 0.6288026176537641\n",
      " Precision: 0.9041458794037525\n",
      " Recall: 0.48495370370370366\n",
      " ROC_AUC: 0.8973144745027462\n"
     ]
    }
   ],
   "source": [
    "print(f\" Accuracy: {rf_score['test_accuracy'].mean()}\\n F1: {rf_score['test_f1'].mean()}\\n Precision: {rf_score['test_precision'].mean()}\\n Recall: {rf_score['test_recall'].mean()}\\n ROC_AUC: {rf_score['test_roc_auc'].mean()}\")"
   ]
  },
  {
   "cell_type": "code",
   "execution_count": 381,
   "metadata": {},
   "outputs": [
    {
     "name": "stderr",
     "output_type": "stream",
     "text": [
      "/home/john/.conda/envs/pubmed/lib/python3.8/site-packages/sklearn/metrics/_classification.py:1221: UndefinedMetricWarning: Precision is ill-defined and being set to 0.0 due to no predicted samples. Use `zero_division` parameter to control this behavior.\n",
      "  _warn_prf(average, modifier, msg_start, len(result))\n"
     ]
    }
   ],
   "source": [
    "from sklearn.naive_bayes import MultinomialNB\n",
    "mnb = MultinomialNB().fit(x_normalized, y_train)\n",
    "mnb_score=cross_validate(mnb,x_test_normalized, y_test,cv=cv,scoring=[\"accuracy\",\"f1\",\"precision\",\"recall\",\"roc_auc\"])"
   ]
  },
  {
   "cell_type": "code",
   "execution_count": 382,
   "metadata": {},
   "outputs": [
    {
     "name": "stdout",
     "output_type": "stream",
     "text": [
      " Accuracy: 0.7162687823055657\n",
      " F1: 0.1397663370290596\n",
      " Precision: 0.9506740019240019\n",
      " Recall: 0.07638888888888888\n",
      " ROC_AUC: 0.8272721675644671\n"
     ]
    }
   ],
   "source": [
    "print(f\" Accuracy: {mnb_score['test_accuracy'].mean()}\\n F1: {mnb_score['test_f1'].mean()}\\n Precision: {mnb_score['test_precision'].mean()}\\n Recall: {mnb_score['test_recall'].mean()}\\n ROC_AUC: {mnb_score['test_roc_auc'].mean()}\")"
   ]
  },
  {
   "cell_type": "code",
   "execution_count": 422,
   "metadata": {},
   "outputs": [
    {
     "name": "stdout",
     "output_type": "stream",
     "text": [
      "Model: \"sequential_2\"\n",
      "_________________________________________________________________\n",
      "Layer (type)                 Output Shape              Param #   \n",
      "=================================================================\n",
      "dense_5 (Dense)              (None, 10)                159290    \n",
      "_________________________________________________________________\n",
      "dense_6 (Dense)              (None, 1)                 11        \n",
      "=================================================================\n",
      "Total params: 159,301\n",
      "Trainable params: 159,301\n",
      "Non-trainable params: 0\n",
      "_________________________________________________________________\n"
     ]
    }
   ],
   "source": [
    "from keras.models import Sequential\n",
    "from keras import layers\n",
    "\n",
    "x_nn_normalized=normalizer.transform(X_train).toarray()\n",
    "x_nn_test_normalized=normalizer.transform(X_test).toarray()\n",
    "\n",
    "input_dim = x_normalized.shape[1]  # Number of features\n",
    "\n",
    "model = Sequential()\n",
    "model.add(layers.Dense(10, input_dim=input_dim, activation='relu'))\n",
    "model.add(layers.Dense(1, activation='sigmoid'))\n",
    "model.compile(loss='binary_crossentropy', \n",
    "               optimizer='adam', \n",
    "               metrics=['accuracy'])\n",
    "model.summary()"
   ]
  },
  {
   "cell_type": "code",
   "execution_count": 433,
   "metadata": {},
   "outputs": [],
   "source": [
    "history = model.fit(x_normalized, y_train,\n",
    "                     epochs=100,\n",
    "                     verbose=False,\n",
    "                    validation_data=(x_test_normalized, y_test),\n",
    "                     batch_size=10)"
   ]
  },
  {
   "cell_type": "code",
   "execution_count": 434,
   "metadata": {},
   "outputs": [
    {
     "name": "stdout",
     "output_type": "stream",
     "text": [
      "Training Accuracy: 1.0000\n",
      "Testing Accuracy:  0.8701\n"
     ]
    }
   ],
   "source": [
    "loss, accuracy = model.evaluate(x_normalized, y_train, verbose=False)\n",
    "print(\"Training Accuracy: {:.4f}\".format(accuracy))\n",
    "loss, accuracy = model.evaluate(x_test_normalized, y_test, verbose=False)\n",
    "print(\"Testing Accuracy:  {:.4f}\".format(accuracy))"
   ]
  },
  {
   "cell_type": "code",
   "execution_count": 436,
   "metadata": {},
   "outputs": [
    {
     "data": {
      "text/plain": [
       "dict_keys(['loss', 'accuracy', 'val_loss', 'val_accuracy'])"
      ]
     },
     "execution_count": 436,
     "metadata": {},
     "output_type": "execute_result"
    }
   ],
   "source": [
    "history.history.keys()"
   ]
  },
  {
   "cell_type": "code",
   "execution_count": 437,
   "metadata": {},
   "outputs": [
    {
     "data": {
      "image/png": "[encoded data removed]",
      "text/plain": [
       "<Figure size 864x360 with 2 Axes>"
      ]
     },
     "metadata": {},
     "output_type": "display_data"
    }
   ],
   "source": [
    "import matplotlib.pyplot as plt\n",
    "plt.style.use('ggplot')\n",
    "\n",
    "def plot_history(history):\n",
    "    acc = history.history['accuracy']\n",
    "    val_acc = history.history['val_accuracy']\n",
    "    loss = history.history['loss']\n",
    "    val_loss = history.history['val_loss']\n",
    "    x = range(1, len(acc) + 1)\n",
    "\n",
    "    plt.figure(figsize=(12, 5))\n",
    "    plt.subplot(1, 2, 1)\n",
    "    plt.plot(x, acc, 'b', label='Training acc')\n",
    "    plt.plot(x, val_acc, 'r', label='Validation acc')\n",
    "    plt.title('Training and validation accuracy')\n",
    "    plt.legend()\n",
    "    plt.subplot(1, 2, 2)\n",
    "    plt.plot(x, loss, 'b', label='Training loss')\n",
    "    plt.plot(x, val_loss, 'r', label='Validation loss')\n",
    "    plt.title('Training and validation loss')\n",
    "    plt.legend()\n",
    "plot_history(history)"
   ]
  },
  {
   "cell_type": "markdown",
   "metadata": {},
   "source": [
    "### train sentences model and apply to abstracts"
   ]
  },
  {
   "cell_type": "code",
   "execution_count": 355,
   "metadata": {},
   "outputs": [
    {
     "data": {
      "text/plain": [
       "array([[21,  4],\n",
       "       [31, 80]])"
      ]
     },
     "execution_count": 355,
     "metadata": {},
     "output_type": "execute_result"
    }
   ],
   "source": [
    "#created X_test from abstracts;\n",
    "x_test_vect=vectorizer.transform(abstract_test)\n",
    "x_test_vec_normalized=normalizer.transform(x_test_vect)\n",
    "y_preds_abs=classifier.predict(x_test_vec_normalized)\n",
    "\n",
    "confusion_matrix(abstract_y_test,y_preds_abs)"
   ]
  },
  {
   "cell_type": "code",
   "execution_count": 371,
   "metadata": {},
   "outputs": [
    {
     "data": {
      "text/plain": [
       "(0.7803603603603603,\n",
       " 0.9523809523809523,\n",
       " 0.7426470588235294,\n",
       " 0.8205128205128205)"
      ]
     },
     "execution_count": 371,
     "metadata": {},
     "output_type": "execute_result"
    }
   ],
   "source": [
    "from sklearn.metrics import roc_auc_score,precision_score,accuracy_score,recall_score,f1_score\n",
    "roc_auc_score(abstract_y_test,y_preds_abs),precision_score(abstract_y_test,y_preds_abs),accuracy_score(abstract_y_test,y_preds_abs),f1_score(abstract_y_test,y_preds_abs)"
   ]
  },
  {
   "cell_type": "code",
   "execution_count": 372,
   "metadata": {},
   "outputs": [
    {
     "data": {
      "image/png": "[encoded data removed]",
      "text/plain": [
       "<Figure size 432x288 with 2 Axes>"
      ]
     },
     "metadata": {
      "needs_background": "light"
     },
     "output_type": "display_data"
    }
   ],
   "source": [
    "from sklearn.metrics import plot_confusion_matrix\n",
    "plot_confusion_matrix(classifier,x_test_vec_normalized,abstract_y_test);"
   ]
  },
  {
   "cell_type": "code",
   "execution_count": 373,
   "metadata": {},
   "outputs": [
    {
     "data": {
      "image/png": "[encoded data removed]",
      "text/plain": [
       "<Figure size 432x288 with 1 Axes>"
      ]
     },
     "metadata": {
      "needs_background": "light"
     },
     "output_type": "display_data"
    },
    {
     "data": {
      "image/png": "[encoded data removed]",
      "text/plain": [
       "<Figure size 432x288 with 1 Axes>"
      ]
     },
     "metadata": {
      "needs_background": "light"
     },
     "output_type": "display_data"
    }
   ],
   "source": [
    "from sklearn.metrics import plot_precision_recall_curve,plot_roc_curve\n",
    "\n",
    "plot_precision_recall_curve(classifier,x_test_vec_normalized,abstract_y_test);\n",
    "plot_roc_curve(classifier,x_test_vec_normalized,abstract_y_test);"
   ]
  },
  {
   "cell_type": "markdown",
   "metadata": {},
   "source": [
    "### SVM"
   ]
  },
  {
   "cell_type": "code",
   "execution_count": 367,
   "metadata": {},
   "outputs": [
    {
     "data": {
      "text/plain": [
       "array([[21,  4],\n",
       "       [26, 85]])"
      ]
     },
     "execution_count": 367,
     "metadata": {},
     "output_type": "execute_result"
    }
   ],
   "source": [
    "##svc\n",
    "#created X_test from abstracts;\n",
    "\n",
    "svc_y_preds_abs=svm.predict(x_test_vec_normalized)\n",
    "\n",
    "confusion_matrix(abstract_y_test,svc_y_preds_abs)"
   ]
  },
  {
   "cell_type": "code",
   "execution_count": 368,
   "metadata": {},
   "outputs": [
    {
     "data": {
      "text/plain": [
       "(0.8028828828828829, 0.9550561797752809, 0.7794117647058824, 0.85)"
      ]
     },
     "execution_count": 368,
     "metadata": {},
     "output_type": "execute_result"
    }
   ],
   "source": [
    "from sklearn.metrics import roc_auc_score,precision_score,accuracy_score,recall_score,f1_score\n",
    "roc_auc_score(abstract_y_test,svc_y_preds_abs),precision_score(abstract_y_test,svc_y_preds_abs),accuracy_score(abstract_y_test,svc_y_preds_abs),f1_score(abstract_y_test,svc_y_preds_abs)"
   ]
  },
  {
   "cell_type": "code",
   "execution_count": 369,
   "metadata": {},
   "outputs": [
    {
     "data": {
      "image/png": "[encoded data removed]",
      "text/plain": [
       "<Figure size 432x288 with 2 Axes>"
      ]
     },
     "metadata": {
      "needs_background": "light"
     },
     "output_type": "display_data"
    }
   ],
   "source": [
    "from sklearn.metrics import plot_confusion_matrix\n",
    "plot_confusion_matrix(svm,x_test_vec_normalized,abstract_y_test);"
   ]
  },
  {
   "cell_type": "code",
   "execution_count": 370,
   "metadata": {},
   "outputs": [
    {
     "data": {
      "image/png": "[encoded data removed]",
      "text/plain": [
       "<Figure size 432x288 with 1 Axes>"
      ]
     },
     "metadata": {
      "needs_background": "light"
     },
     "output_type": "display_data"
    },
    {
     "data": {
      "image/png": "[encoded data removed]",
      "text/plain": [
       "<Figure size 432x288 with 1 Axes>"
      ]
     },
     "metadata": {
      "needs_background": "light"
     },
     "output_type": "display_data"
    }
   ],
   "source": [
    "from sklearn.metrics import plot_precision_recall_curve,plot_roc_curve\n",
    "\n",
    "plot_precision_recall_curve(svm,x_test_vec_normalized,abstract_y_test);\n",
    "plot_roc_curve(svm,x_test_vec_normalized,abstract_y_test);"
   ]
  },
  {
   "cell_type": "markdown",
   "metadata": {},
   "source": [
    "### Random Forest"
   ]
  },
  {
   "cell_type": "code",
   "execution_count": 376,
   "metadata": {},
   "outputs": [
    {
     "data": {
      "text/plain": [
       "array([[25,  0],\n",
       "       [93, 18]])"
      ]
     },
     "execution_count": 376,
     "metadata": {},
     "output_type": "execute_result"
    }
   ],
   "source": [
    "rf_y_preds_abs=rf.predict(x_test_vec_normalized)\n",
    "\n",
    "confusion_matrix(abstract_y_test,rf_y_preds_abs)"
   ]
  },
  {
   "cell_type": "code",
   "execution_count": 445,
   "metadata": {},
   "outputs": [
    {
     "data": {
      "text/plain": [
       "(0.5810810810810811, 1.0, 0.3161764705882353, 0.27906976744186046)"
      ]
     },
     "execution_count": 445,
     "metadata": {},
     "output_type": "execute_result"
    }
   ],
   "source": [
    "from sklearn.metrics import roc_auc_score,precision_score,accuracy_score,recall_score,f1_score\n",
    "roc_auc_score(abstract_y_test,rf_y_preds_abs),precision_score(abstract_y_test,rf_y_preds_abs),accuracy_score(abstract_y_test,rf_y_preds_abs),f1_score(abstract_y_test,rf_y_preds_abs)"
   ]
  },
  {
   "cell_type": "code",
   "execution_count": 377,
   "metadata": {},
   "outputs": [
    {
     "data": {
      "image/png": "[encoded data removed]",
      "text/plain": [
       "<Figure size 432x288 with 2 Axes>"
      ]
     },
     "metadata": {
      "needs_background": "light"
     },
     "output_type": "display_data"
    }
   ],
   "source": [
    "from sklearn.metrics import plot_confusion_matrix\n",
    "plot_confusion_matrix(rf,x_test_vec_normalized,abstract_y_test);"
   ]
  },
  {
   "cell_type": "code",
   "execution_count": 378,
   "metadata": {},
   "outputs": [
    {
     "data": {
      "image/png": "[encoded data removed]",
      "text/plain": [
       "<Figure size 432x288 with 1 Axes>"
      ]
     },
     "metadata": {
      "needs_background": "light"
     },
     "output_type": "display_data"
    },
    {
     "data": {
      "image/png": "[encoded data removed]",
      "text/plain": [
       "<Figure size 432x288 with 1 Axes>"
      ]
     },
     "metadata": {
      "needs_background": "light"
     },
     "output_type": "display_data"
    }
   ],
   "source": [
    "from sklearn.metrics import plot_precision_recall_curve,plot_roc_curve\n",
    "\n",
    "plot_precision_recall_curve(rf,x_test_vec_normalized,abstract_y_test);\n",
    "plot_roc_curve(rf,x_test_vec_normalized,abstract_y_test);"
   ]
  },
  {
   "cell_type": "markdown",
   "metadata": {},
   "source": [
    "### Bayes"
   ]
  },
  {
   "cell_type": "code",
   "execution_count": 439,
   "metadata": {},
   "outputs": [
    {
     "data": {
      "text/plain": [
       "array([[ 25,   0],\n",
       "       [110,   1]])"
      ]
     },
     "execution_count": 439,
     "metadata": {},
     "output_type": "execute_result"
    }
   ],
   "source": [
    "##svc\n",
    "#created X_test from abstracts;\n",
    "\n",
    "mnb_y_preds_abs=mnb.predict(x_test_vec_normalized)\n",
    "\n",
    "confusion_matrix(abstract_y_test,mnb_y_preds_abs)"
   ]
  },
  {
   "cell_type": "code",
   "execution_count": 440,
   "metadata": {},
   "outputs": [
    {
     "data": {
      "image/png": "[encoded data removed]",
      "text/plain": [
       "<Figure size 432x288 with 1 Axes>"
      ]
     },
     "metadata": {},
     "output_type": "display_data"
    },
    {
     "data": {
      "image/png": "[encoded data removed]",
      "text/plain": [
       "<Figure size 432x288 with 1 Axes>"
      ]
     },
     "metadata": {},
     "output_type": "display_data"
    }
   ],
   "source": [
    "from sklearn.metrics import plot_precision_recall_curve,plot_roc_curve\n",
    "\n",
    "plot_precision_recall_curve(mnb,x_test_vec_normalized,abstract_y_test);\n",
    "plot_roc_curve(mnb,x_test_vec_normalized,abstract_y_test);"
   ]
  },
  {
   "cell_type": "markdown",
   "metadata": {},
   "source": [
    "### Keras"
   ]
  },
  {
   "cell_type": "code",
   "execution_count": 443,
   "metadata": {},
   "outputs": [
    {
     "data": {
      "text/plain": [
       "array([[20,  5],\n",
       "       [29, 82]])"
      ]
     },
     "execution_count": 443,
     "metadata": {},
     "output_type": "execute_result"
    }
   ],
   "source": [
    "keras_y_preds=model.predict_classes(x_test_vec_normalized)\n",
    "confusion_matrix(abstract_y_test,keras_y_preds)"
   ]
  },
  {
   "cell_type": "code",
   "execution_count": 446,
   "metadata": {},
   "outputs": [
    {
     "data": {
      "text/plain": [
       "(0.7693693693693694, 0.9425287356321839, 0.75, 0.8282828282828283)"
      ]
     },
     "execution_count": 446,
     "metadata": {},
     "output_type": "execute_result"
    }
   ],
   "source": [
    "roc_auc_score(abstract_y_test,keras_y_preds),precision_score(abstract_y_test,keras_y_preds),accuracy_score(abstract_y_test,keras_y_preds),f1_score(abstract_y_test,keras_y_preds)"
   ]
  },
  {
   "cell_type": "markdown",
   "metadata": {},
   "source": [
    "### Saving models"
   ]
  },
  {
   "cell_type": "code",
   "execution_count": 447,
   "metadata": {},
   "outputs": [],
   "source": [
    "import pickle\n",
    "\n",
    "pkl_filename = \"svm.pkl\"\n",
    "with open(pkl_filename, 'wb') as file:\n",
    "    pickle.dump(svm, file)"
   ]
  },
  {
   "cell_type": "code",
   "execution_count": 448,
   "metadata": {},
   "outputs": [],
   "source": [
    "pkl_filename = \"linear_model.pkl\"\n",
    "with open(pkl_filename, 'wb') as file:\n",
    "    pickle.dump(classifier, file)"
   ]
  },
  {
   "cell_type": "markdown",
   "metadata": {},
   "source": [
    "## Entity recognition"
   ]
  },
  {
   "cell_type": "code",
   "execution_count": 1,
   "metadata": {},
   "outputs": [
    {
     "data": {
      "text/html": [
       "<span class=\"tex2jax_ignore\"><div class=\"entities\" style=\"line-height: 2.5; direction: ltr\">A patient was prescribed \n",
       "<mark class=\"entity\" style=\"background: #3cb44b; padding: 0.45em 0.6em; margin: 0 0.25em; line-height: 1; border-radius: 0.35em;\">\n",
       "    Magnesium hydroxide\n",
       "    <span style=\"font-size: 0.8em; font-weight: bold; line-height: 1; border-radius: 0.35em; text-transform: uppercase; vertical-align: middle; margin-left: 0.5rem\">DRUG</span>\n",
       "</mark>\n",
       " \n",
       "<mark class=\"entity\" style=\"background: #e6194B; padding: 0.45em 0.6em; margin: 0 0.25em; line-height: 1; border-radius: 0.35em;\">\n",
       "    400mg/5ml\n",
       "    <span style=\"font-size: 0.8em; font-weight: bold; line-height: 1; border-radius: 0.35em; text-transform: uppercase; vertical-align: middle; margin-left: 0.5rem\">DOSAGE</span>\n",
       "</mark>\n",
       " \n",
       "<mark class=\"entity\" style=\"background: #ffd8b1; padding: 0.45em 0.6em; margin: 0 0.25em; line-height: 1; border-radius: 0.35em;\">\n",
       "    suspension\n",
       "    <span style=\"font-size: 0.8em; font-weight: bold; line-height: 1; border-radius: 0.35em; text-transform: uppercase; vertical-align: middle; margin-left: 0.5rem\">FORM</span>\n",
       "</mark>\n",
       " \n",
       "<mark class=\"entity\" style=\"background: #f032e6; padding: 0.45em 0.6em; margin: 0 0.25em; line-height: 1; border-radius: 0.35em;\">\n",
       "    PO\n",
       "    <span style=\"font-size: 0.8em; font-weight: bold; line-height: 1; border-radius: 0.35em; text-transform: uppercase; vertical-align: middle; margin-left: 0.5rem\">ROUTE</span>\n",
       "</mark>\n",
       " of total \n",
       "<mark class=\"entity\" style=\"background: #e6194B; padding: 0.45em 0.6em; margin: 0 0.25em; line-height: 1; border-radius: 0.35em;\">\n",
       "    30ml\n",
       "    <span style=\"font-size: 0.8em; font-weight: bold; line-height: 1; border-radius: 0.35em; text-transform: uppercase; vertical-align: middle; margin-left: 0.5rem\">DOSAGE</span>\n",
       "</mark>\n",
       " \n",
       "<mark class=\"entity\" style=\"background: #f58231; padding: 0.45em 0.6em; margin: 0 0.25em; line-height: 1; border-radius: 0.35em;\">\n",
       "    bid\n",
       "    <span style=\"font-size: 0.8em; font-weight: bold; line-height: 1; border-radius: 0.35em; text-transform: uppercase; vertical-align: middle; margin-left: 0.5rem\">FREQUENCY</span>\n",
       "</mark>\n",
       " \n",
       "<mark class=\"entity\" style=\"background: #ffe119; padding: 0.45em 0.6em; margin: 0 0.25em; line-height: 1; border-radius: 0.35em;\">\n",
       "    for the next 5 days\n",
       "    <span style=\"font-size: 0.8em; font-weight: bold; line-height: 1; border-radius: 0.35em; text-transform: uppercase; vertical-align: middle; margin-left: 0.5rem\">DURATION</span>\n",
       "</mark>\n",
       ".</div></span>"
      ],
      "text/plain": [
       "<IPython.core.display.HTML object>"
      ]
     },
     "metadata": {},
     "output_type": "display_data"
    },
    {
     "data": {
      "text/plain": [
       "[('Magnesium hydroxide', 'DRUG'),\n",
       " ('400mg/5ml', 'DOSAGE'),\n",
       " ('suspension', 'FORM'),\n",
       " ('PO', 'ROUTE'),\n",
       " ('30ml', 'DOSAGE'),\n",
       " ('bid', 'FREQUENCY'),\n",
       " ('for the next 5 days', 'DURATION')]"
      ]
     },
     "execution_count": 1,
     "metadata": {},
     "output_type": "execute_result"
    }
   ],
   "source": [
    "import spacy\n",
    "\n",
    "med7 = spacy.load(\"en_core_med7_lg\")\n",
    "\n",
    "# create distinct colours for labels\n",
    "col_dict = {}\n",
    "seven_colours = ['#e6194B', '#3cb44b', '#ffe119', '#ffd8b1', '#f58231', '#f032e6', '#42d4f4']\n",
    "for label, colour in zip(med7.pipe_labels['ner'], seven_colours):\n",
    "    col_dict[label] = colour\n",
    "\n",
    "options = {'ents': med7.pipe_labels['ner'], 'colors':col_dict}\n",
    "\n",
    "text = 'A patient was prescribed Magnesium hydroxide 400mg/5ml suspension PO of total 30ml bid for the next 5 days.'\n",
    "doc = med7(text)\n",
    "\n",
    "spacy.displacy.render(doc, style='ent', jupyter=True, options=options)\n",
    "\n",
    "[(ent.text, ent.label_) for ent in doc.ents]"
   ]
  },
  {
   "cell_type": "code",
   "execution_count": 12,
   "metadata": {},
   "outputs": [
    {
     "ename": "AttributeError",
     "evalue": "'list' object has no attribute 'unique'",
     "output_type": "error",
     "traceback": [
      "\u001b[0;31m---------------------------------------------------------------------------\u001b[0m",
      "\u001b[0;31mAttributeError\u001b[0m                            Traceback (most recent call last)",
      "\u001b[0;32m<ipython-input-12-00f06166178f>\u001b[0m in \u001b[0;36m<module>\u001b[0;34m\u001b[0m\n\u001b[1;32m      4\u001b[0m \u001b[0;31m#spacy.displacy.render(doc, style='ent', jupyter=True, options=options)\u001b[0m\u001b[0;34m\u001b[0m\u001b[0;34m\u001b[0m\u001b[0;34m\u001b[0m\u001b[0m\n\u001b[1;32m      5\u001b[0m \u001b[0;34m\u001b[0m\u001b[0m\n\u001b[0;32m----> 6\u001b[0;31m \u001b[0;34m[\u001b[0m\u001b[0;34m(\u001b[0m\u001b[0ment\u001b[0m\u001b[0;34m.\u001b[0m\u001b[0mtext\u001b[0m\u001b[0;34m,\u001b[0m \u001b[0ment\u001b[0m\u001b[0;34m.\u001b[0m\u001b[0mlabel_\u001b[0m\u001b[0;34m)\u001b[0m \u001b[0;32mfor\u001b[0m \u001b[0ment\u001b[0m \u001b[0;32min\u001b[0m \u001b[0mdoc\u001b[0m\u001b[0;34m.\u001b[0m\u001b[0ments\u001b[0m\u001b[0;34m]\u001b[0m\u001b[0;34m.\u001b[0m\u001b[0munique\u001b[0m\u001b[0;34m(\u001b[0m\u001b[0;34m)\u001b[0m\u001b[0;34m\u001b[0m\u001b[0;34m\u001b[0m\u001b[0m\n\u001b[0m",
      "\u001b[0;31mAttributeError\u001b[0m: 'list' object has no attribute 'unique'"
     ]
    }
   ],
   "source": [
    "abstrasct_test=s1.iloc[0,3]\n",
    "doc = med7(abstrasct_test)\n",
    "\n",
    "#spacy.displacy.render(doc, style='ent', jupyter=True, options=options)\n",
    "\n",
    "[(ent.text, ent.label_) for ent in doc.ents].unique()"
   ]
  },
  {
   "cell_type": "code",
   "execution_count": 23,
   "metadata": {},
   "outputs": [
    {
     "data": {
      "text/html": [
       "<div>\n",
       "<style scoped>\n",
       "    .dataframe tbody tr th:only-of-type {\n",
       "        vertical-align: middle;\n",
       "    }\n",
       "\n",
       "    .dataframe tbody tr th {\n",
       "        vertical-align: top;\n",
       "    }\n",
       "\n",
       "    .dataframe thead th {\n",
       "        text-align: right;\n",
       "    }\n",
       "</style>\n",
       "<table border=\"1\" class=\"dataframe\">\n",
       "  <thead>\n",
       "    <tr style=\"text-align: right;\">\n",
       "      <th></th>\n",
       "      <th>pubmedId</th>\n",
       "      <th>sentence</th>\n",
       "      <th>target</th>\n",
       "      <th>abstract</th>\n",
       "    </tr>\n",
       "  </thead>\n",
       "  <tbody>\n",
       "    <tr>\n",
       "      <th>0</th>\n",
       "      <td>8700794</td>\n",
       "      <td>When vague symptoms develop during desmopressi...</td>\n",
       "      <td>1</td>\n",
       "      <td>Desmopressin is a commonly used, well-tolerate...</td>\n",
       "    </tr>\n",
       "    <tr>\n",
       "      <th>1</th>\n",
       "      <td>6221046</td>\n",
       "      <td>Multiple complications of propylthiouracil tre...</td>\n",
       "      <td>1</td>\n",
       "      <td>An association of granulocytopenia, eosinophil...</td>\n",
       "    </tr>\n",
       "    <tr>\n",
       "      <th>2</th>\n",
       "      <td>8192712</td>\n",
       "      <td>Hyperammonemia secondary to valproic acid as a...</td>\n",
       "      <td>1</td>\n",
       "      <td>Hyperammonemia has been described as a complic...</td>\n",
       "    </tr>\n",
       "    <tr>\n",
       "      <th>3</th>\n",
       "      <td>2924444</td>\n",
       "      <td>Acute myocardial infarction due to coronary sp...</td>\n",
       "      <td>1</td>\n",
       "      <td>A 63-year-old man with hypothyroidism is descr...</td>\n",
       "    </tr>\n",
       "    <tr>\n",
       "      <th>4</th>\n",
       "      <td>8742573</td>\n",
       "      <td>CASE: We report a case of a woman with severe ...</td>\n",
       "      <td>1</td>\n",
       "      <td>OBJECTIVE: To evaluate the efficacy of the adm...</td>\n",
       "    </tr>\n",
       "    <tr>\n",
       "      <th>...</th>\n",
       "      <td>...</td>\n",
       "      <td>...</td>\n",
       "      <td>...</td>\n",
       "      <td>...</td>\n",
       "    </tr>\n",
       "    <tr>\n",
       "      <th>675</th>\n",
       "      <td>11319599</td>\n",
       "      <td>Fungal arthritis and osteomyelitis are rare an...</td>\n",
       "      <td>0</td>\n",
       "      <td>Fungal arthritis and osteomyelitis are rare an...</td>\n",
       "    </tr>\n",
       "    <tr>\n",
       "      <th>676</th>\n",
       "      <td>2332596</td>\n",
       "      <td>Phenobarbital hepatotoxicity in an 8-month-old...</td>\n",
       "      <td>1</td>\n",
       "      <td>Severe hepatotoxicity from phenobarbital occur...</td>\n",
       "    </tr>\n",
       "    <tr>\n",
       "      <th>677</th>\n",
       "      <td>10467499</td>\n",
       "      <td>A 22-year-old black man developed fever, chill...</td>\n",
       "      <td>1</td>\n",
       "      <td>A 22-year-old black man developed fever, chill...</td>\n",
       "    </tr>\n",
       "    <tr>\n",
       "      <th>678</th>\n",
       "      <td>20110001</td>\n",
       "      <td>Flare of Kaposi's sarcoma (KS) is well describ...</td>\n",
       "      <td>1</td>\n",
       "      <td>BACKGROUND: Chronic myeloid leukemia (CML) is ...</td>\n",
       "    </tr>\n",
       "    <tr>\n",
       "      <th>679</th>\n",
       "      <td>160443</td>\n",
       "      <td>Transient global amnesia after clioquinol: fiv...</td>\n",
       "      <td>1</td>\n",
       "      <td>Five personal observations of an acute amnesti...</td>\n",
       "    </tr>\n",
       "  </tbody>\n",
       "</table>\n",
       "<p>680 rows × 4 columns</p>\n",
       "</div>"
      ],
      "text/plain": [
       "     pubmedId                                           sentence  target  \\\n",
       "0     8700794  When vague symptoms develop during desmopressi...       1   \n",
       "1     6221046  Multiple complications of propylthiouracil tre...       1   \n",
       "2     8192712  Hyperammonemia secondary to valproic acid as a...       1   \n",
       "3     2924444  Acute myocardial infarction due to coronary sp...       1   \n",
       "4     8742573  CASE: We report a case of a woman with severe ...       1   \n",
       "..        ...                                                ...     ...   \n",
       "675  11319599  Fungal arthritis and osteomyelitis are rare an...       0   \n",
       "676   2332596  Phenobarbital hepatotoxicity in an 8-month-old...       1   \n",
       "677  10467499  A 22-year-old black man developed fever, chill...       1   \n",
       "678  20110001  Flare of Kaposi's sarcoma (KS) is well describ...       1   \n",
       "679    160443  Transient global amnesia after clioquinol: fiv...       1   \n",
       "\n",
       "                                              abstract  \n",
       "0    Desmopressin is a commonly used, well-tolerate...  \n",
       "1    An association of granulocytopenia, eosinophil...  \n",
       "2    Hyperammonemia has been described as a complic...  \n",
       "3    A 63-year-old man with hypothyroidism is descr...  \n",
       "4    OBJECTIVE: To evaluate the efficacy of the adm...  \n",
       "..                                                 ...  \n",
       "675  Fungal arthritis and osteomyelitis are rare an...  \n",
       "676  Severe hepatotoxicity from phenobarbital occur...  \n",
       "677  A 22-year-old black man developed fever, chill...  \n",
       "678  BACKGROUND: Chronic myeloid leukemia (CML) is ...  \n",
       "679  Five personal observations of an acute amnesti...  \n",
       "\n",
       "[680 rows x 4 columns]"
      ]
     },
     "execution_count": 23,
     "metadata": {},
     "output_type": "execute_result"
    }
   ],
   "source": [
    "s1"
   ]
  },
  {
   "cell_type": "code",
   "execution_count": 24,
   "metadata": {},
   "outputs": [],
   "source": [
    "###geting info from abstract\n",
    "def get_entities(abstract):\n",
    "    doc=med7(abstract)\n",
    "    unique=[(ent.text.lower(), ent.label_) for ent in doc.ents]\n",
    "    return list(set(unique)) \n",
    "get_entities(abstrasct_test)\n",
    "s1[\"entities\"]=s1[\"abstract\"].apply(get_entities)"
   ]
  },
  {
   "cell_type": "code",
   "execution_count": 26,
   "metadata": {},
   "outputs": [
    {
     "data": {
      "text/html": [
       "<div>\n",
       "<style scoped>\n",
       "    .dataframe tbody tr th:only-of-type {\n",
       "        vertical-align: middle;\n",
       "    }\n",
       "\n",
       "    .dataframe tbody tr th {\n",
       "        vertical-align: top;\n",
       "    }\n",
       "\n",
       "    .dataframe thead th {\n",
       "        text-align: right;\n",
       "    }\n",
       "</style>\n",
       "<table border=\"1\" class=\"dataframe\">\n",
       "  <thead>\n",
       "    <tr style=\"text-align: right;\">\n",
       "      <th></th>\n",
       "      <th>pubmedId</th>\n",
       "      <th>sentence</th>\n",
       "      <th>target</th>\n",
       "      <th>abstract</th>\n",
       "      <th>entities</th>\n",
       "    </tr>\n",
       "  </thead>\n",
       "  <tbody>\n",
       "    <tr>\n",
       "      <th>0</th>\n",
       "      <td>8700794</td>\n",
       "      <td>When vague symptoms develop during desmopressi...</td>\n",
       "      <td>1</td>\n",
       "      <td>Desmopressin is a commonly used, well-tolerate...</td>\n",
       "      <td>[(intravenous, ROUTE), (fluids, DRUG), (intran...</td>\n",
       "    </tr>\n",
       "    <tr>\n",
       "      <th>1</th>\n",
       "      <td>6221046</td>\n",
       "      <td>Multiple complications of propylthiouracil tre...</td>\n",
       "      <td>1</td>\n",
       "      <td>An association of granulocytopenia, eosinophil...</td>\n",
       "      <td>[(propylthiouracil, DRUG), (ptu, DRUG)]</td>\n",
       "    </tr>\n",
       "    <tr>\n",
       "      <th>2</th>\n",
       "      <td>8192712</td>\n",
       "      <td>Hyperammonemia secondary to valproic acid as a...</td>\n",
       "      <td>1</td>\n",
       "      <td>Hyperammonemia has been described as a complic...</td>\n",
       "      <td>[(valproic acid, DRUG)]</td>\n",
       "    </tr>\n",
       "    <tr>\n",
       "      <th>3</th>\n",
       "      <td>2924444</td>\n",
       "      <td>Acute myocardial infarction due to coronary sp...</td>\n",
       "      <td>1</td>\n",
       "      <td>A 63-year-old man with hypothyroidism is descr...</td>\n",
       "      <td>[(l-thyroxine, DRUG)]</td>\n",
       "    </tr>\n",
       "    <tr>\n",
       "      <th>4</th>\n",
       "      <td>8742573</td>\n",
       "      <td>CASE: We report a case of a woman with severe ...</td>\n",
       "      <td>1</td>\n",
       "      <td>OBJECTIVE: To evaluate the efficacy of the adm...</td>\n",
       "      <td>[(insulin, DRUG)]</td>\n",
       "    </tr>\n",
       "    <tr>\n",
       "      <th>...</th>\n",
       "      <td>...</td>\n",
       "      <td>...</td>\n",
       "      <td>...</td>\n",
       "      <td>...</td>\n",
       "      <td>...</td>\n",
       "    </tr>\n",
       "    <tr>\n",
       "      <th>675</th>\n",
       "      <td>11319599</td>\n",
       "      <td>Fungal arthritis and osteomyelitis are rare an...</td>\n",
       "      <td>0</td>\n",
       "      <td>Fungal arthritis and osteomyelitis are rare an...</td>\n",
       "      <td>[(fludarabine, DRUG), (cyclosporine, DRUG), (s...</td>\n",
       "    </tr>\n",
       "    <tr>\n",
       "      <th>676</th>\n",
       "      <td>2332596</td>\n",
       "      <td>Phenobarbital hepatotoxicity in an 8-month-old...</td>\n",
       "      <td>1</td>\n",
       "      <td>Severe hepatotoxicity from phenobarbital occur...</td>\n",
       "      <td>[(phenobarbital, DRUG)]</td>\n",
       "    </tr>\n",
       "    <tr>\n",
       "      <th>677</th>\n",
       "      <td>10467499</td>\n",
       "      <td>A 22-year-old black man developed fever, chill...</td>\n",
       "      <td>1</td>\n",
       "      <td>A 22-year-old black man developed fever, chill...</td>\n",
       "      <td>[(systemic corticosteroids, DRUG), (minocyclin...</td>\n",
       "    </tr>\n",
       "    <tr>\n",
       "      <th>678</th>\n",
       "      <td>20110001</td>\n",
       "      <td>Flare of Kaposi's sarcoma (KS) is well describ...</td>\n",
       "      <td>1</td>\n",
       "      <td>BACKGROUND: Chronic myeloid leukemia (CML) is ...</td>\n",
       "      <td>[(tyrosine kinase inhibitors, DRUG), (imatinib...</td>\n",
       "    </tr>\n",
       "    <tr>\n",
       "      <th>679</th>\n",
       "      <td>160443</td>\n",
       "      <td>Transient global amnesia after clioquinol: fiv...</td>\n",
       "      <td>1</td>\n",
       "      <td>Five personal observations of an acute amnesti...</td>\n",
       "      <td>[(clioquinol-containing preparation, DRUG), (c...</td>\n",
       "    </tr>\n",
       "  </tbody>\n",
       "</table>\n",
       "<p>680 rows × 5 columns</p>\n",
       "</div>"
      ],
      "text/plain": [
       "     pubmedId                                           sentence  target  \\\n",
       "0     8700794  When vague symptoms develop during desmopressi...       1   \n",
       "1     6221046  Multiple complications of propylthiouracil tre...       1   \n",
       "2     8192712  Hyperammonemia secondary to valproic acid as a...       1   \n",
       "3     2924444  Acute myocardial infarction due to coronary sp...       1   \n",
       "4     8742573  CASE: We report a case of a woman with severe ...       1   \n",
       "..        ...                                                ...     ...   \n",
       "675  11319599  Fungal arthritis and osteomyelitis are rare an...       0   \n",
       "676   2332596  Phenobarbital hepatotoxicity in an 8-month-old...       1   \n",
       "677  10467499  A 22-year-old black man developed fever, chill...       1   \n",
       "678  20110001  Flare of Kaposi's sarcoma (KS) is well describ...       1   \n",
       "679    160443  Transient global amnesia after clioquinol: fiv...       1   \n",
       "\n",
       "                                              abstract  \\\n",
       "0    Desmopressin is a commonly used, well-tolerate...   \n",
       "1    An association of granulocytopenia, eosinophil...   \n",
       "2    Hyperammonemia has been described as a complic...   \n",
       "3    A 63-year-old man with hypothyroidism is descr...   \n",
       "4    OBJECTIVE: To evaluate the efficacy of the adm...   \n",
       "..                                                 ...   \n",
       "675  Fungal arthritis and osteomyelitis are rare an...   \n",
       "676  Severe hepatotoxicity from phenobarbital occur...   \n",
       "677  A 22-year-old black man developed fever, chill...   \n",
       "678  BACKGROUND: Chronic myeloid leukemia (CML) is ...   \n",
       "679  Five personal observations of an acute amnesti...   \n",
       "\n",
       "                                              entities  \n",
       "0    [(intravenous, ROUTE), (fluids, DRUG), (intran...  \n",
       "1              [(propylthiouracil, DRUG), (ptu, DRUG)]  \n",
       "2                              [(valproic acid, DRUG)]  \n",
       "3                                [(l-thyroxine, DRUG)]  \n",
       "4                                    [(insulin, DRUG)]  \n",
       "..                                                 ...  \n",
       "675  [(fludarabine, DRUG), (cyclosporine, DRUG), (s...  \n",
       "676                            [(phenobarbital, DRUG)]  \n",
       "677  [(systemic corticosteroids, DRUG), (minocyclin...  \n",
       "678  [(tyrosine kinase inhibitors, DRUG), (imatinib...  \n",
       "679  [(clioquinol-containing preparation, DRUG), (c...  \n",
       "\n",
       "[680 rows x 5 columns]"
      ]
     },
     "execution_count": 26,
     "metadata": {},
     "output_type": "execute_result"
    }
   ],
   "source": []
  }
 ],
 "metadata": {
  "kernelspec": {
   "display_name": "Python 3 (WSL - pubmed)",
   "language": "python",
   "name": "pubmed"
  },
  "language_info": {
   "codemirror_mode": {
    "name": "ipython",
    "version": 3
   },
   "file_extension": ".py",
   "mimetype": "text/x-python",
   "name": "python",
   "nbconvert_exporter": "python",
   "pygments_lexer": "ipython3",
   "version": "3.8.5"
  }
 },
 "nbformat": 4,
 "nbformat_minor": 4
}
