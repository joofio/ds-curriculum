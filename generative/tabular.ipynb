{
 "cells": [
  {
   "cell_type": "code",
   "execution_count": null,
   "metadata": {},
   "outputs": [],
   "source": [
    "#tabular data"
   ]
  },
  {
   "cell_type": "code",
   "execution_count": null,
   "metadata": {},
   "outputs": [],
   "source": [
    "#imports\n",
    "from ctgan import load_demo\n",
    "from ctgan import CTGANSynthesizer\n",
    "import pandas as pd\n",
    "import seaborn as sns\n",
    "import matplotlib.pyplot as plt\n",
    "import numpy as np\n",
    "import torch\n",
    "from IPython.core.interactiveshell import InteractiveShell\n",
    "InteractiveShell.ast_node_interactivity = \"all\""
   ]
  },
  {
   "cell_type": "code",
   "execution_count": null,
   "metadata": {},
   "outputs": [],
   "source": [
    "cbc=pd.read_csv(\"data/dataR2 (2).csv\")\n",
    "cbc.shape\n",
    "cbc.dtypes\n",
    "cbc.head(5)\n",
    "cbc_discrete_columns = ['Classification']"
   ]
  },
  {
   "cell_type": "code",
   "execution_count": null,
   "metadata": {},
   "outputs": [],
   "source": [
    "ctgan_model = CTGANSynthesizer()\n",
    "np.random.seed(42)\n",
    "torch.manual_seed(42)\n",
    "ctgan_model.fit(cbc, cbc_discrete_columns,epochs=200)\n",
    "cbc_synth = ctgan_model.sample(cbc.shape[0])\n",
    "cbc_concatenated = pd.concat([cbc.assign(dataset='original'), cbc_synth.assign(dataset='sinthetic')])"
   ]
  },
  {
   "cell_type": "code",
   "execution_count": null,
   "metadata": {},
   "outputs": [],
   "source": [
    "f, axes = plt.subplots(2, 2, figsize=(7, 7))\n",
    "sns.countplot(x=\"Classification\", data=cbc_concatenated,hue='dataset',ax=axes[0, 0])\n",
    "sns.histplot(data=cbc_concatenated, x=\"Age\", hue=\"dataset\",ax=axes[0, 1])\n",
    "sns.histplot(data=cbc_concatenated, x=\"Leptin\", hue='dataset',ax=axes[1, 0])\n",
    "sns.histplot(data=cbc_concatenated, x=\"BMI\", hue='dataset',ax=axes[1, 1])\n",
    "plt.tight_layout()"
   ]
  },
  {
   "cell_type": "code",
   "execution_count": null,
   "metadata": {},
   "outputs": [],
   "source": [
    "##sns.pairplot(cbc_concatenated, hue=\"dataset\",kind=\"kde\")\n"
   ]
  },
  {
   "cell_type": "code",
   "execution_count": null,
   "metadata": {},
   "outputs": [],
   "source": [
    "#sdv evaluation metrics\n",
    "from sdv.evaluation import evaluate\n",
    "\n",
    "sdv_cbc_eval=evaluate(cbc_synth, cbc, aggregate=False)\n",
    "sdv_cbc_eval"
   ]
  }
 ],
 "metadata": {
  "kernelspec": {
   "display_name": "Python (ctgan)",
   "language": "python",
   "name": "ctgan"
  },
  "language_info": {
   "codemirror_mode": {
    "name": "ipython",
    "version": 3
   },
   "file_extension": ".py",
   "mimetype": "text/x-python",
   "name": "python",
   "nbconvert_exporter": "python",
   "pygments_lexer": "ipython3",
   "version": "3.7.9"
  }
 },
 "nbformat": 4,
 "nbformat_minor": 4
}
