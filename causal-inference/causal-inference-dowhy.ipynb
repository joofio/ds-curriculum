{
 "cells": [
  {
   "cell_type": "code",
   "execution_count": 1,
   "metadata": {},
   "outputs": [],
   "source": [
    "from dowhy import CausalModel\n",
    "import pandas as pd\n",
    "import numpy as np"
   ]
  },
  {
   "cell_type": "code",
   "execution_count": 2,
   "metadata": {},
   "outputs": [],
   "source": [
    "data= pd.read_csv(\"https://raw.githubusercontent.com/AMLab-Amsterdam/CEVAE/master/datasets/IHDP/csv/ihdp_npci_1.csv\",header=None)"
   ]
  },
  {
   "cell_type": "code",
   "execution_count": 3,
   "metadata": {},
   "outputs": [],
   "source": [
    "headers =  [\"treatment\", \"y_factual\", \"y_cfactual\", \"mu0\", \"mu1\" ]"
   ]
  },
  {
   "cell_type": "code",
   "execution_count": 4,
   "metadata": {},
   "outputs": [],
   "source": [
    "confounders=[\"x\"+str(i) for i in range(1,26)]\n",
    "headers.extend(confounders)"
   ]
  },
  {
   "cell_type": "code",
   "execution_count": 5,
   "metadata": {},
   "outputs": [],
   "source": [
    "data.columns=headers"
   ]
  },
  {
   "cell_type": "code",
   "execution_count": 6,
   "metadata": {},
   "outputs": [
    {
     "data": {
      "text/html": [
       "<div>\n",
       "<style scoped>\n",
       "    .dataframe tbody tr th:only-of-type {\n",
       "        vertical-align: middle;\n",
       "    }\n",
       "\n",
       "    .dataframe tbody tr th {\n",
       "        vertical-align: top;\n",
       "    }\n",
       "\n",
       "    .dataframe thead th {\n",
       "        text-align: right;\n",
       "    }\n",
       "</style>\n",
       "<table border=\"1\" class=\"dataframe\">\n",
       "  <thead>\n",
       "    <tr style=\"text-align: right;\">\n",
       "      <th></th>\n",
       "      <th>treatment</th>\n",
       "      <th>y_factual</th>\n",
       "      <th>y_cfactual</th>\n",
       "      <th>mu0</th>\n",
       "      <th>mu1</th>\n",
       "      <th>x1</th>\n",
       "      <th>x2</th>\n",
       "      <th>x3</th>\n",
       "      <th>x4</th>\n",
       "      <th>x5</th>\n",
       "      <th>...</th>\n",
       "      <th>x16</th>\n",
       "      <th>x17</th>\n",
       "      <th>x18</th>\n",
       "      <th>x19</th>\n",
       "      <th>x20</th>\n",
       "      <th>x21</th>\n",
       "      <th>x22</th>\n",
       "      <th>x23</th>\n",
       "      <th>x24</th>\n",
       "      <th>x25</th>\n",
       "    </tr>\n",
       "  </thead>\n",
       "  <tbody>\n",
       "    <tr>\n",
       "      <th>0</th>\n",
       "      <td>1</td>\n",
       "      <td>5.599916</td>\n",
       "      <td>4.318780</td>\n",
       "      <td>3.268256</td>\n",
       "      <td>6.854457</td>\n",
       "      <td>-0.528603</td>\n",
       "      <td>-0.343455</td>\n",
       "      <td>1.128554</td>\n",
       "      <td>0.161703</td>\n",
       "      <td>-0.316603</td>\n",
       "      <td>...</td>\n",
       "      <td>1</td>\n",
       "      <td>1</td>\n",
       "      <td>1</td>\n",
       "      <td>1</td>\n",
       "      <td>0</td>\n",
       "      <td>0</td>\n",
       "      <td>0</td>\n",
       "      <td>0</td>\n",
       "      <td>0</td>\n",
       "      <td>0</td>\n",
       "    </tr>\n",
       "    <tr>\n",
       "      <th>1</th>\n",
       "      <td>0</td>\n",
       "      <td>6.875856</td>\n",
       "      <td>7.856495</td>\n",
       "      <td>6.636059</td>\n",
       "      <td>7.562718</td>\n",
       "      <td>-1.736945</td>\n",
       "      <td>-1.802002</td>\n",
       "      <td>0.383828</td>\n",
       "      <td>2.244320</td>\n",
       "      <td>-0.629189</td>\n",
       "      <td>...</td>\n",
       "      <td>1</td>\n",
       "      <td>1</td>\n",
       "      <td>1</td>\n",
       "      <td>1</td>\n",
       "      <td>0</td>\n",
       "      <td>0</td>\n",
       "      <td>0</td>\n",
       "      <td>0</td>\n",
       "      <td>0</td>\n",
       "      <td>0</td>\n",
       "    </tr>\n",
       "    <tr>\n",
       "      <th>2</th>\n",
       "      <td>0</td>\n",
       "      <td>2.996273</td>\n",
       "      <td>6.633952</td>\n",
       "      <td>1.570536</td>\n",
       "      <td>6.121617</td>\n",
       "      <td>-0.807451</td>\n",
       "      <td>-0.202946</td>\n",
       "      <td>-0.360898</td>\n",
       "      <td>-0.879606</td>\n",
       "      <td>0.808706</td>\n",
       "      <td>...</td>\n",
       "      <td>1</td>\n",
       "      <td>0</td>\n",
       "      <td>1</td>\n",
       "      <td>1</td>\n",
       "      <td>0</td>\n",
       "      <td>0</td>\n",
       "      <td>0</td>\n",
       "      <td>0</td>\n",
       "      <td>0</td>\n",
       "      <td>0</td>\n",
       "    </tr>\n",
       "    <tr>\n",
       "      <th>3</th>\n",
       "      <td>0</td>\n",
       "      <td>1.366206</td>\n",
       "      <td>5.697239</td>\n",
       "      <td>1.244738</td>\n",
       "      <td>5.889125</td>\n",
       "      <td>0.390083</td>\n",
       "      <td>0.596582</td>\n",
       "      <td>-1.850350</td>\n",
       "      <td>-0.879606</td>\n",
       "      <td>-0.004017</td>\n",
       "      <td>...</td>\n",
       "      <td>1</td>\n",
       "      <td>0</td>\n",
       "      <td>1</td>\n",
       "      <td>1</td>\n",
       "      <td>0</td>\n",
       "      <td>0</td>\n",
       "      <td>0</td>\n",
       "      <td>0</td>\n",
       "      <td>0</td>\n",
       "      <td>0</td>\n",
       "    </tr>\n",
       "    <tr>\n",
       "      <th>4</th>\n",
       "      <td>0</td>\n",
       "      <td>1.963538</td>\n",
       "      <td>6.202582</td>\n",
       "      <td>1.685048</td>\n",
       "      <td>6.191994</td>\n",
       "      <td>-1.045229</td>\n",
       "      <td>-0.602710</td>\n",
       "      <td>0.011465</td>\n",
       "      <td>0.161703</td>\n",
       "      <td>0.683672</td>\n",
       "      <td>...</td>\n",
       "      <td>1</td>\n",
       "      <td>1</td>\n",
       "      <td>1</td>\n",
       "      <td>1</td>\n",
       "      <td>0</td>\n",
       "      <td>0</td>\n",
       "      <td>0</td>\n",
       "      <td>0</td>\n",
       "      <td>0</td>\n",
       "      <td>0</td>\n",
       "    </tr>\n",
       "  </tbody>\n",
       "</table>\n",
       "<p>5 rows × 30 columns</p>\n",
       "</div>"
      ],
      "text/plain": [
       "   treatment  y_factual  y_cfactual       mu0       mu1        x1        x2  \\\n",
       "0          1   5.599916    4.318780  3.268256  6.854457 -0.528603 -0.343455   \n",
       "1          0   6.875856    7.856495  6.636059  7.562718 -1.736945 -1.802002   \n",
       "2          0   2.996273    6.633952  1.570536  6.121617 -0.807451 -0.202946   \n",
       "3          0   1.366206    5.697239  1.244738  5.889125  0.390083  0.596582   \n",
       "4          0   1.963538    6.202582  1.685048  6.191994 -1.045229 -0.602710   \n",
       "\n",
       "         x3        x4        x5  ...  x16  x17  x18  x19  x20  x21  x22  x23  \\\n",
       "0  1.128554  0.161703 -0.316603  ...    1    1    1    1    0    0    0    0   \n",
       "1  0.383828  2.244320 -0.629189  ...    1    1    1    1    0    0    0    0   \n",
       "2 -0.360898 -0.879606  0.808706  ...    1    0    1    1    0    0    0    0   \n",
       "3 -1.850350 -0.879606 -0.004017  ...    1    0    1    1    0    0    0    0   \n",
       "4  0.011465  0.161703  0.683672  ...    1    1    1    1    0    0    0    0   \n",
       "\n",
       "   x24  x25  \n",
       "0    0    0  \n",
       "1    0    0  \n",
       "2    0    0  \n",
       "3    0    0  \n",
       "4    0    0  \n",
       "\n",
       "[5 rows x 30 columns]"
      ]
     },
     "execution_count": 6,
     "metadata": {},
     "output_type": "execute_result"
    }
   ],
   "source": [
    "data.head()"
   ]
  },
  {
   "cell_type": "markdown",
   "metadata": {},
   "source": [
    "Treatment here is the intervention. Y_factual is the outcome, quantified through the combination of the mental, behavioral, and health statuses of the infants.  \n",
    "\n",
    "All the x’s (x1 to x25) are confounders of the outcome and the intervention: variables like gender, race, quality of home-care, etc. We’re trying to figure out the causal relationship between the treatment and the outcome, while accounting for the confounders. \n",
    "\n",
    "(Technically we don’t have to account for these confounders because the data was collected through a randomized trial and any bias that would build up with them would be wiped out. However, it’s still a good idea to account for them, and it’s absolutely necessary to account for them when the data is observational)."
   ]
  },
  {
   "cell_type": "markdown",
   "metadata": {},
   "source": [
    "DoWhy breaks down causal inference into four simple steps:\n",
    "* model \n",
    "* identify \n",
    "* estimate\n",
    "* refute.\n",
    "\n",
    "We’ll follow these steps as we perform causal inference.\n"
   ]
  },
  {
   "cell_type": "markdown",
   "metadata": {},
   "source": [
    "### Model"
   ]
  },
  {
   "cell_type": "code",
   "execution_count": 7,
   "metadata": {},
   "outputs": [
    {
     "name": "stderr",
     "output_type": "stream",
     "text": [
      "WARNING:dowhy.causal_model:Causal Graph not provided. DoWhy will construct a graph based on data inputs.\n",
      "INFO:dowhy.causal_graph:If this is observed data (not from a randomized experiment), there might always be missing confounders. Adding a node named \"Unobserved Confounders\" to reflect this.\n",
      "INFO:dowhy.causal_model:Model to find the causal effect of treatment ['treatment'] on outcome ['y_factual']\n"
     ]
    }
   ],
   "source": [
    "#Create a causal model from the data and given common causes.\n",
    "model=CausalModel(\n",
    "        data = data,\n",
    "        treatment='treatment',\n",
    "        outcome='y_factual',\n",
    "        common_causes=confounders\n",
    "        )"
   ]
  },
  {
   "cell_type": "code",
   "execution_count": 17,
   "metadata": {},
   "outputs": [
    {
     "name": "stderr",
     "output_type": "stream",
     "text": [
      "WARNING:dowhy.causal_graph:Warning: Pygraphviz cannot be loaded. Check that graphviz and pygraphviz are installed.\n",
      "INFO:dowhy.causal_graph:Using Matplotlib for plotting\n"
     ]
    },
    {
     "data": {
      "image/png": "[encoded data removed]",
      "text/plain": [
       "<Figure size 432x288 with 1 Axes>"
      ]
     },
     "metadata": {},
     "output_type": "display_data"
    }
   ],
   "source": [
    "model.view_model()"
   ]
  },
  {
   "cell_type": "markdown",
   "metadata": {},
   "source": [
    "### Identity\n",
    "The identify step uses the causal diagram created from the model step and identifies all the causal relationships. This code prints out:"
   ]
  },
  {
   "cell_type": "code",
   "execution_count": 8,
   "metadata": {},
   "outputs": [
    {
     "name": "stderr",
     "output_type": "stream",
     "text": [
      "INFO:dowhy.causal_identifier:Common causes of treatment and outcome:['x21', 'x4', 'x23', 'x22', 'x25', 'x14', 'x5', 'x2', 'x15', 'x19', 'x18', 'x13', 'x6', 'x1', 'x9', 'x11', 'x3', 'x20', 'U', 'x12', 'x16', 'x7', 'x10', 'x17', 'x8', 'x24']\n",
      "WARNING:dowhy.causal_identifier:If this is observed data (not from a randomized experiment), there might always be missing confounders. Causal effect cannot be identified perfectly.\n"
     ]
    },
    {
     "name": "stdin",
     "output_type": "stream",
     "text": [
      "WARN: Do you want to continue by ignoring any unobserved confounders? (use proceed_when_unidentifiable=True to disable this prompt) [y/n]  y\n"
     ]
    },
    {
     "name": "stderr",
     "output_type": "stream",
     "text": [
      "INFO:dowhy.causal_identifier:Instrumental variables for treatment and outcome:[]\n"
     ]
    },
    {
     "name": "stdout",
     "output_type": "stream",
     "text": [
      "Estimand type: nonparametric-ate\n",
      "### Estimand : 1\n",
      "Estimand name: backdoor\n",
      "Estimand expression:\n",
      "     d                                                                        \n",
      "────────────(Expectation(y_factual|x21,x4,x23,x22,x25,x14,x5,x2,x15,x19,x18,x1\n",
      "d[treatment]                                                                  \n",
      "\n",
      "                                                 \n",
      "3,x6,x1,x9,x11,x3,x20,x12,x16,x7,x10,x17,x8,x24))\n",
      "                                                 \n",
      "Estimand assumption 1, Unconfoundedness: If U→{treatment} and U→y_factual then P(y_factual|treatment,x21,x4,x23,x22,x25,x14,x5,x2,x15,x19,x18,x13,x6,x1,x9,x11,x3,x20,x12,x16,x7,x10,x17,x8,x24,U) = P(y_factual|treatment,x21,x4,x23,x22,x25,x14,x5,x2,x15,x19,x18,x13,x6,x1,x9,x11,x3,x20,x12,x16,x7,x10,x17,x8,x24)\n",
      "### Estimand : 2\n",
      "Estimand name: iv\n",
      "No such variable found!\n",
      "\n"
     ]
    }
   ],
   "source": [
    "#Identify the causal effect\n",
    "identified_estimand = model.identify_effect()\n",
    "print(identified_estimand)"
   ]
  },
  {
   "cell_type": "markdown",
   "metadata": {},
   "source": [
    "Since we’re not trying to find 2 causal relationships (just trying to find the effect of intervention on outcome) estimand 2 is not found."
   ]
  },
  {
   "cell_type": "markdown",
   "metadata": {},
   "source": [
    "### Estimate\n",
    "Using the estimand (the causal relationship identified) we can now estimate the strength of this causal relationship. There are many methods available to us (propensity-based-matching, additive noise modeling), but in this tutorial, we’ll stick to good ol’ fashioned linear regression."
   ]
  },
  {
   "cell_type": "code",
   "execution_count": 15,
   "metadata": {},
   "outputs": [
    {
     "name": "stderr",
     "output_type": "stream",
     "text": [
      "INFO:dowhy.causal_estimator:INFO: Using Linear Regression Estimator\n",
      "INFO:dowhy.causal_estimator:b: y_factual~treatment+x21+x4+x23+x22+x25+x14+x5+x2+x15+x19+x18+x13+x6+x1+x9+x11+x3+x20+x12+x16+x7+x10+x17+x8+x24\n"
     ]
    },
    {
     "name": "stdout",
     "output_type": "stream",
     "text": [
      "                            OLS Regression Results                            \n",
      "==============================================================================\n",
      "Dep. Variable:              y_factual   R-squared:                       0.740\n",
      "Model:                            OLS   Adj. R-squared:                  0.731\n",
      "Method:                 Least Squares   F-statistic:                     78.91\n",
      "Date:                Mon, 02 Nov 2020   Prob (F-statistic):          6.10e-191\n",
      "Time:                        12:19:42   Log-Likelihood:                -1138.1\n",
      "No. Observations:                 747   AIC:                             2330.\n",
      "Df Residuals:                     720   BIC:                             2455.\n",
      "Df Model:                          26                                         \n",
      "Covariance Type:            nonrobust                                         \n",
      "==============================================================================\n",
      "                 coef    std err          t      P>|t|      [0.025      0.975]\n",
      "------------------------------------------------------------------------------\n",
      "const          2.2206      0.448      4.957      0.000       1.341       3.100\n",
      "x1             3.9287      0.113     34.823      0.000       3.707       4.150\n",
      "x2             0.0105      0.158      0.067      0.947      -0.300       0.321\n",
      "x3             0.2573      0.076      3.371      0.001       0.107       0.407\n",
      "x4             0.0819      0.201      0.408      0.683      -0.312       0.476\n",
      "x5            -0.0235      0.199     -0.118      0.906      -0.414       0.367\n",
      "x6            -0.0517      0.159     -0.324      0.746      -0.365       0.261\n",
      "x7             0.1626      0.149      1.094      0.274      -0.129       0.454\n",
      "x8             0.0113      0.046      0.247      0.805      -0.078       0.101\n",
      "x9            -0.0403      0.084     -0.478      0.633      -0.206       0.125\n",
      "x10            1.0107      0.127      7.928      0.000       0.760       1.261\n",
      "x11            0.1057      0.165      0.642      0.521      -0.217       0.429\n",
      "x12            0.0903      0.231      0.392      0.695      -0.362       0.543\n",
      "x13           -0.0724      0.094     -0.773      0.440      -0.256       0.111\n",
      "x14            0.9004      0.058     15.596      0.000       0.787       1.014\n",
      "x15            0.0083      0.093      0.089      0.929      -0.174       0.191\n",
      "x16           -0.0912      0.100     -0.908      0.364      -0.288       0.106\n",
      "x17           -0.0878      0.158     -0.557      0.578      -0.398       0.222\n",
      "x18           -0.0035      0.071     -0.049      0.961      -0.143       0.136\n",
      "x19            0.3402      0.169      2.009      0.045       0.008       0.673\n",
      "x20            0.0701      0.149      0.469      0.639      -0.223       0.363\n",
      "x21           -0.3409      0.223     -1.530      0.126      -0.778       0.096\n",
      "x22           -0.0769      0.086     -0.896      0.371      -0.246       0.092\n",
      "x23            0.1497      0.171      0.875      0.382      -0.186       0.486\n",
      "x24            0.0149      0.095      0.156      0.876      -0.172       0.202\n",
      "x25            0.2195      0.149      1.471      0.142      -0.074       0.513\n",
      "x26            0.3706      0.177      2.090      0.037       0.022       0.719\n",
      "==============================================================================\n",
      "Omnibus:                       17.787   Durbin-Watson:                   2.077\n",
      "Prob(Omnibus):                  0.000   Jarque-Bera (JB):               23.252\n",
      "Skew:                           0.258   Prob(JB):                     8.93e-06\n",
      "Kurtosis:                       3.694   Cond. No.                         31.5\n",
      "==============================================================================\n",
      "\n",
      "Notes:\n",
      "[1] Standard Errors assume that the covariance matrix of the errors is correctly specified.\n",
      "*** Causal Estimate ***\n",
      "\n",
      "## Identified estimand\n",
      "Estimand type: nonparametric-ate\n",
      "### Estimand : 1\n",
      "Estimand name: backdoor\n",
      "Estimand expression:\n",
      "     d                                                                        \n",
      "────────────(Expectation(y_factual|x21,x4,x23,x22,x25,x14,x5,x2,x15,x19,x18,x1\n",
      "d[treatment]                                                                  \n",
      "\n",
      "                                                 \n",
      "3,x6,x1,x9,x11,x3,x20,x12,x16,x7,x10,x17,x8,x24))\n",
      "                                                 \n",
      "Estimand assumption 1, Unconfoundedness: If U→{treatment} and U→y_factual then P(y_factual|treatment,x21,x4,x23,x22,x25,x14,x5,x2,x15,x19,x18,x13,x6,x1,x9,x11,x3,x20,x12,x16,x7,x10,x17,x8,x24,U) = P(y_factual|treatment,x21,x4,x23,x22,x25,x14,x5,x2,x15,x19,x18,x13,x6,x1,x9,x11,x3,x20,x12,x16,x7,x10,x17,x8,x24)\n",
      "### Estimand : 2\n",
      "Estimand name: iv\n",
      "No such variable found!\n",
      "\n",
      "## Realized estimand\n",
      "b: y_factual~treatment+x21+x4+x23+x22+x25+x14+x5+x2+x15+x19+x18+x13+x6+x1+x9+x11+x3+x20+x12+x16+x7+x10+x17+x8+x24\n",
      "Target units: ate\n",
      "\n",
      "## Estimate\n",
      "Mean value: 3.9286717508727187\n",
      "p-value: [1.58915682e-156]\n",
      "\n",
      "Causal Estimate is 3.9286717508727187\n",
      "ATE: 4.021121012430829\n"
     ]
    }
   ],
   "source": [
    "# Estimate the causal effect and compare it with Average Treatment Effect\n",
    "estimate = model.estimate_effect(identified_estimand, method_name=\"backdoor.linear_regression\", test_significance=True)\n",
    "print(estimate)\n",
    "print(f\"Causal Estimate is {estimate.value}\" )\n",
    "data_1 = data[data[\"treatment\"]==1]\n",
    "data_0 = data[data[\"treatment\"]==0]\n",
    "print(f\"ATE: {np.mean(data_1['y_factual']) - np.mean(data_0['y_factual'])}\")"
   ]
  },
  {
   "cell_type": "markdown",
   "metadata": {},
   "source": [
    "As you can see, the ATE is pretty close to the Causal Estimate that we got. The ~4 is the difference in wellbeing of the premature babies that had care vs. those who didn’t. The number 4 doesn’t have much meaning semantically because it is the literal difference of the outcome between the two groups, and the outcome, in this case, was a combination of a variety of other factors. If you take a look back at the 5 cases that were printed out, the differences between the two are about 4."
   ]
  },
  {
   "cell_type": "markdown",
   "metadata": {},
   "source": [
    "### Refute\n",
    "The refute steps tests the strength and validity of the causal effect found by the estimate step. There are a variety of different refutation methods, eg. Subset Validation (using only a subset of the data to estimate the causal effect) or Placebo Treatment (turning the treatment into a placebo and seeing its effect on the outcome (the placebo treatment refutation expects the causal effect to go down)) In this case, we’ll be adding an irrelevant common cause to test the strength of the causal relationship between the treatment and outcome. This is useful because it changes the causal model but not the relationship between y_factual and treatment."
   ]
  },
  {
   "cell_type": "code",
   "execution_count": 10,
   "metadata": {},
   "outputs": [
    {
     "name": "stderr",
     "output_type": "stream",
     "text": [
      "INFO:dowhy.causal_estimator:INFO: Using Linear Regression Estimator\n",
      "INFO:dowhy.causal_estimator:b: y_factual~treatment+x21+x4+x23+x22+x25+x14+x5+x2+x15+x19+x18+x13+x6+x1+x9+x11+x3+x20+x12+x16+x7+x10+x17+x8+x24+w_random\n"
     ]
    },
    {
     "name": "stdout",
     "output_type": "stream",
     "text": [
      "                            OLS Regression Results                            \n",
      "==============================================================================\n",
      "Dep. Variable:              y_factual   R-squared:                       0.741\n",
      "Model:                            OLS   Adj. R-squared:                  0.731\n",
      "Method:                 Least Squares   F-statistic:                     76.06\n",
      "Date:                Mon, 02 Nov 2020   Prob (F-statistic):          2.95e-190\n",
      "Time:                        12:17:43   Log-Likelihood:                -1137.5\n",
      "No. Observations:                 747   AIC:                             2331.\n",
      "Df Residuals:                     719   BIC:                             2460.\n",
      "Df Model:                          27                                         \n",
      "Covariance Type:            nonrobust                                         \n",
      "==============================================================================\n",
      "                 coef    std err          t      P>|t|      [0.025      0.975]\n",
      "------------------------------------------------------------------------------\n",
      "const          2.2226      0.448      4.962      0.000       1.343       3.102\n",
      "x1             3.9342      0.113     34.844      0.000       3.713       4.156\n",
      "x2             0.0089      0.158      0.056      0.955      -0.301       0.319\n",
      "x3             0.2572      0.076      3.370      0.001       0.107       0.407\n",
      "x4             0.0730      0.201      0.364      0.716      -0.321       0.467\n",
      "x5            -0.0222      0.199     -0.112      0.911      -0.412       0.368\n",
      "x6            -0.0498      0.159     -0.312      0.755      -0.363       0.263\n",
      "x7             0.1657      0.149      1.115      0.265      -0.126       0.458\n",
      "x8             0.0103      0.046      0.226      0.821      -0.079       0.100\n",
      "x9            -0.0417      0.084     -0.495      0.620      -0.207       0.124\n",
      "x10            1.0060      0.128      7.888      0.000       0.756       1.256\n",
      "x11            0.0996      0.165      0.605      0.546      -0.224       0.423\n",
      "x12            0.0853      0.231      0.370      0.712      -0.367       0.538\n",
      "x13           -0.0728      0.094     -0.779      0.436      -0.257       0.111\n",
      "x14            0.9042      0.058     15.638      0.000       0.791       1.018\n",
      "x15            0.0079      0.093      0.085      0.932      -0.175       0.191\n",
      "x16           -0.0963      0.101     -0.958      0.338      -0.294       0.101\n",
      "x17           -0.0876      0.158     -0.555      0.579      -0.397       0.222\n",
      "x18           -0.0052      0.071     -0.074      0.941      -0.145       0.134\n",
      "x19            0.3401      0.169      2.009      0.045       0.008       0.672\n",
      "x20            0.0719      0.149      0.481      0.631      -0.221       0.365\n",
      "x21           -0.3376      0.223     -1.515      0.130      -0.775       0.100\n",
      "x22           -0.0783      0.086     -0.912      0.362      -0.247       0.090\n",
      "x23            0.1505      0.171      0.879      0.380      -0.186       0.487\n",
      "x24            0.0136      0.095      0.142      0.887      -0.174       0.201\n",
      "x25            0.2111      0.149      1.413      0.158      -0.082       0.504\n",
      "x26            0.3626      0.177      2.043      0.041       0.014       0.711\n",
      "x27            0.0465      0.042      1.119      0.264      -0.035       0.128\n",
      "==============================================================================\n",
      "Omnibus:                       19.157   Durbin-Watson:                   2.080\n",
      "Prob(Omnibus):                  0.000   Jarque-Bera (JB):               25.279\n",
      "Skew:                           0.271   Prob(JB):                     3.24e-06\n",
      "Kurtosis:                       3.720   Cond. No.                         31.5\n",
      "==============================================================================\n",
      "\n",
      "Notes:\n",
      "[1] Standard Errors assume that the covariance matrix of the errors is correctly specified.\n",
      "Refute: Add a Random Common Cause\n",
      "Estimated effect:3.9286717508727187\n",
      "New effect:3.9341695678782522\n",
      "\n"
     ]
    }
   ],
   "source": [
    "refute_results=model.refute_estimate(identified_estimand, estimate,\n",
    "        method_name=\"random_common_cause\")\n",
    "print(refute_results)"
   ]
  },
  {
   "cell_type": "markdown",
   "metadata": {},
   "source": [
    "Adding a random common cause didn’t have much of an effect on the causal effect (as expected) and so we can be more assured of the strength of the causal relationship."
   ]
  }
 ],
 "metadata": {
  "kernelspec": {
   "display_name": "Python (py3)",
   "language": "python",
   "name": "py3"
  },
  "language_info": {
   "codemirror_mode": {
    "name": "ipython",
    "version": 3
   },
   "file_extension": ".py",
   "mimetype": "text/x-python",
   "name": "python",
   "nbconvert_exporter": "python",
   "pygments_lexer": "ipython3",
   "version": "3.8.3"
  }
 },
 "nbformat": 4,
 "nbformat_minor": 4
}
