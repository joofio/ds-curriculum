{
 "cells": [
  {
   "cell_type": "code",
   "execution_count": 1,
   "metadata": {},
   "outputs": [
    {
     "name": "stderr",
     "output_type": "stream",
     "text": [
      "Importing plotly failed. Interactive plots will not work.\n"
     ]
    }
   ],
   "source": [
    "from fbprophet import Prophet\n",
    "import pandas as pd\n",
    "import matplotlib.pyplot as plt\n",
    "import seaborn as sns\n",
    "import numpy as np\n",
    "import random"
   ]
  },
  {
   "cell_type": "code",
   "execution_count": 2,
   "metadata": {},
   "outputs": [],
   "source": [
    "#!pip install seaborn"
   ]
  },
  {
   "cell_type": "code",
   "execution_count": 3,
   "metadata": {},
   "outputs": [],
   "source": [
    "df=pd.read_csv(\"/mnt/c/Users/joaof/Documents/full_data_by15.csv\",usecols=[1,2])"
   ]
  },
  {
   "cell_type": "code",
   "execution_count": 4,
   "metadata": {},
   "outputs": [
    {
     "data": {
      "text/html": [
       "<div>\n",
       "<style scoped>\n",
       "    .dataframe tbody tr th:only-of-type {\n",
       "        vertical-align: middle;\n",
       "    }\n",
       "\n",
       "    .dataframe tbody tr th {\n",
       "        vertical-align: top;\n",
       "    }\n",
       "\n",
       "    .dataframe thead th {\n",
       "        text-align: right;\n",
       "    }\n",
       "</style>\n",
       "<table border=\"1\" class=\"dataframe\">\n",
       "  <thead>\n",
       "    <tr style=\"text-align: right;\">\n",
       "      <th></th>\n",
       "      <th>ds</th>\n",
       "      <th>y</th>\n",
       "    </tr>\n",
       "  </thead>\n",
       "  <tbody>\n",
       "    <tr>\n",
       "      <th>0</th>\n",
       "      <td>2019-12-01 00:00:00</td>\n",
       "      <td>36</td>\n",
       "    </tr>\n",
       "    <tr>\n",
       "      <th>1</th>\n",
       "      <td>2019-12-01 00:15:00</td>\n",
       "      <td>11</td>\n",
       "    </tr>\n",
       "    <tr>\n",
       "      <th>2</th>\n",
       "      <td>2019-12-01 00:30:00</td>\n",
       "      <td>5</td>\n",
       "    </tr>\n",
       "    <tr>\n",
       "      <th>3</th>\n",
       "      <td>2019-12-01 00:45:00</td>\n",
       "      <td>4</td>\n",
       "    </tr>\n",
       "    <tr>\n",
       "      <th>4</th>\n",
       "      <td>2019-12-01 01:00:00</td>\n",
       "      <td>3</td>\n",
       "    </tr>\n",
       "    <tr>\n",
       "      <th>...</th>\n",
       "      <td>...</td>\n",
       "      <td>...</td>\n",
       "    </tr>\n",
       "    <tr>\n",
       "      <th>35389</th>\n",
       "      <td>2020-12-03 17:15:00</td>\n",
       "      <td>18</td>\n",
       "    </tr>\n",
       "    <tr>\n",
       "      <th>35390</th>\n",
       "      <td>2020-12-03 17:30:00</td>\n",
       "      <td>20</td>\n",
       "    </tr>\n",
       "    <tr>\n",
       "      <th>35391</th>\n",
       "      <td>2020-12-03 17:45:00</td>\n",
       "      <td>14</td>\n",
       "    </tr>\n",
       "    <tr>\n",
       "      <th>35392</th>\n",
       "      <td>2020-12-03 18:00:00</td>\n",
       "      <td>13</td>\n",
       "    </tr>\n",
       "    <tr>\n",
       "      <th>35393</th>\n",
       "      <td>2020-12-03 18:15:00</td>\n",
       "      <td>4</td>\n",
       "    </tr>\n",
       "  </tbody>\n",
       "</table>\n",
       "<p>35394 rows × 2 columns</p>\n",
       "</div>"
      ],
      "text/plain": [
       "                       ds   y\n",
       "0     2019-12-01 00:00:00  36\n",
       "1     2019-12-01 00:15:00  11\n",
       "2     2019-12-01 00:30:00   5\n",
       "3     2019-12-01 00:45:00   4\n",
       "4     2019-12-01 01:00:00   3\n",
       "...                   ...  ..\n",
       "35389 2020-12-03 17:15:00  18\n",
       "35390 2020-12-03 17:30:00  20\n",
       "35391 2020-12-03 17:45:00  14\n",
       "35392 2020-12-03 18:00:00  13\n",
       "35393 2020-12-03 18:15:00   4\n",
       "\n",
       "[35394 rows x 2 columns]"
      ]
     },
     "execution_count": 4,
     "metadata": {},
     "output_type": "execute_result"
    }
   ],
   "source": [
    "df['ds'] = pd.to_datetime(df['ds'])\n",
    "df"
   ]
  },
  {
   "cell_type": "code",
   "execution_count": 5,
   "metadata": {},
   "outputs": [
    {
     "name": "stdout",
     "output_type": "stream",
     "text": [
      "------------------------------------------------------------\n",
      "*** Head of the dataframe ***\n",
      "------------------------------------------------------------\n",
      "                   ds   y\n",
      "0 2019-12-01 00:00:00  36\n",
      "1 2019-12-01 00:15:00  11\n",
      "2 2019-12-01 00:30:00   5\n",
      "3 2019-12-01 00:45:00   4\n",
      "4 2019-12-01 01:00:00   3\n",
      "------------------------------------------------------------\n",
      "*** Tail of the dataframe ***\n",
      "------------------------------------------------------------\n",
      "                       ds   y\n",
      "35389 2020-12-03 17:15:00  18\n",
      "35390 2020-12-03 17:30:00  20\n",
      "35391 2020-12-03 17:45:00  14\n",
      "35392 2020-12-03 18:00:00  13\n",
      "35393 2020-12-03 18:15:00   4\n"
     ]
    }
   ],
   "source": [
    "print('-'*60)\n",
    "print('*** Head of the dataframe ***')\n",
    "print('-'*60)\n",
    "print(df.head())\n",
    "print('-'*60)\n",
    "print('*** Tail of the dataframe ***')\n",
    "print('-'*60)\n",
    "print(df.tail())"
   ]
  },
  {
   "cell_type": "code",
   "execution_count": 6,
   "metadata": {},
   "outputs": [],
   "source": [
    "## Plot the Time series data\n",
    "#fig, ax = plt.subplots(figsize=(20,7))\n",
    "#a = sns.lineplot(x=\"ds\", y=\"y\", data=df)\n",
    "#a.set_title(\"Daily Sales Data\",fontsize=15)\n",
    "#plt.show()"
   ]
  },
  {
   "cell_type": "code",
   "execution_count": 7,
   "metadata": {},
   "outputs": [],
   "source": [
    "end_date = '2020-10-31'\n",
    "mask1 = (df['ds'] <= end_date)\n",
    "mask2 = (df['ds'] > end_date)"
   ]
  },
  {
   "cell_type": "code",
   "execution_count": 8,
   "metadata": {},
   "outputs": [
    {
     "name": "stdout",
     "output_type": "stream",
     "text": [
      "train shape (32157, 2)\n",
      "test shape (3237, 2)\n"
     ]
    }
   ],
   "source": [
    "X_tr = df.loc[mask1]\n",
    "X_tst = df.loc[mask2]\n",
    "print(\"train shape\",X_tr.shape)\n",
    "print(\"test shape\",X_tst.shape)"
   ]
  },
  {
   "cell_type": "code",
   "execution_count": 9,
   "metadata": {},
   "outputs": [
    {
     "name": "stderr",
     "output_type": "stream",
     "text": [
      "INFO:fbprophet:Disabling yearly seasonality. Run prophet with yearly_seasonality=True to override this.\n"
     ]
    },
    {
     "data": {
      "text/plain": [
       "<fbprophet.forecaster.Prophet at 0x7f14b18e40d0>"
      ]
     },
     "execution_count": 9,
     "metadata": {},
     "output_type": "execute_result"
    }
   ],
   "source": [
    "model =Prophet()\n",
    "model.fit(X_tr)"
   ]
  },
  {
   "cell_type": "code",
   "execution_count": 10,
   "metadata": {},
   "outputs": [],
   "source": [
    "future = model.make_future_dataframe(periods=57, freq='15T')"
   ]
  },
  {
   "cell_type": "code",
   "execution_count": 11,
   "metadata": {},
   "outputs": [
    {
     "data": {
      "text/html": [
       "<div>\n",
       "<style scoped>\n",
       "    .dataframe tbody tr th:only-of-type {\n",
       "        vertical-align: middle;\n",
       "    }\n",
       "\n",
       "    .dataframe tbody tr th {\n",
       "        vertical-align: top;\n",
       "    }\n",
       "\n",
       "    .dataframe thead th {\n",
       "        text-align: right;\n",
       "    }\n",
       "</style>\n",
       "<table border=\"1\" class=\"dataframe\">\n",
       "  <thead>\n",
       "    <tr style=\"text-align: right;\">\n",
       "      <th></th>\n",
       "      <th>ds</th>\n",
       "      <th>yhat</th>\n",
       "      <th>yhat_lower</th>\n",
       "      <th>yhat_upper</th>\n",
       "    </tr>\n",
       "  </thead>\n",
       "  <tbody>\n",
       "    <tr>\n",
       "      <th>32207</th>\n",
       "      <td>2020-10-31 12:45:00</td>\n",
       "      <td>13.735509</td>\n",
       "      <td>0.281228</td>\n",
       "      <td>26.273959</td>\n",
       "    </tr>\n",
       "    <tr>\n",
       "      <th>32208</th>\n",
       "      <td>2020-10-31 13:00:00</td>\n",
       "      <td>12.993175</td>\n",
       "      <td>-0.587380</td>\n",
       "      <td>25.589033</td>\n",
       "    </tr>\n",
       "    <tr>\n",
       "      <th>32209</th>\n",
       "      <td>2020-10-31 13:15:00</td>\n",
       "      <td>12.417437</td>\n",
       "      <td>-0.012000</td>\n",
       "      <td>24.960291</td>\n",
       "    </tr>\n",
       "    <tr>\n",
       "      <th>32210</th>\n",
       "      <td>2020-10-31 13:30:00</td>\n",
       "      <td>12.023379</td>\n",
       "      <td>-1.075562</td>\n",
       "      <td>23.670145</td>\n",
       "    </tr>\n",
       "    <tr>\n",
       "      <th>32211</th>\n",
       "      <td>2020-10-31 13:45:00</td>\n",
       "      <td>11.814484</td>\n",
       "      <td>-0.362665</td>\n",
       "      <td>24.515567</td>\n",
       "    </tr>\n",
       "    <tr>\n",
       "      <th>32212</th>\n",
       "      <td>2020-10-31 14:00:00</td>\n",
       "      <td>11.782856</td>\n",
       "      <td>-0.844514</td>\n",
       "      <td>24.628174</td>\n",
       "    </tr>\n",
       "    <tr>\n",
       "      <th>32213</th>\n",
       "      <td>2020-10-31 14:15:00</td>\n",
       "      <td>11.910087</td>\n",
       "      <td>-1.209073</td>\n",
       "      <td>24.863983</td>\n",
       "    </tr>\n",
       "  </tbody>\n",
       "</table>\n",
       "</div>"
      ],
      "text/plain": [
       "                       ds       yhat  yhat_lower  yhat_upper\n",
       "32207 2020-10-31 12:45:00  13.735509    0.281228   26.273959\n",
       "32208 2020-10-31 13:00:00  12.993175   -0.587380   25.589033\n",
       "32209 2020-10-31 13:15:00  12.417437   -0.012000   24.960291\n",
       "32210 2020-10-31 13:30:00  12.023379   -1.075562   23.670145\n",
       "32211 2020-10-31 13:45:00  11.814484   -0.362665   24.515567\n",
       "32212 2020-10-31 14:00:00  11.782856   -0.844514   24.628174\n",
       "32213 2020-10-31 14:15:00  11.910087   -1.209073   24.863983"
      ]
     },
     "execution_count": 11,
     "metadata": {},
     "output_type": "execute_result"
    }
   ],
   "source": [
    "forecast = model.predict(future)\n",
    "forecast[['ds', 'yhat', 'yhat_lower', 'yhat_upper']].tail(7)"
   ]
  },
  {
   "cell_type": "code",
   "execution_count": 12,
   "metadata": {},
   "outputs": [
    {
     "data": {
      "text/html": [
       "<div>\n",
       "<style scoped>\n",
       "    .dataframe tbody tr th:only-of-type {\n",
       "        vertical-align: middle;\n",
       "    }\n",
       "\n",
       "    .dataframe tbody tr th {\n",
       "        vertical-align: top;\n",
       "    }\n",
       "\n",
       "    .dataframe thead th {\n",
       "        text-align: right;\n",
       "    }\n",
       "</style>\n",
       "<table border=\"1\" class=\"dataframe\">\n",
       "  <thead>\n",
       "    <tr style=\"text-align: right;\">\n",
       "      <th></th>\n",
       "      <th>ds</th>\n",
       "      <th>yhat</th>\n",
       "      <th>yhat_lower</th>\n",
       "      <th>yhat_upper</th>\n",
       "    </tr>\n",
       "  </thead>\n",
       "  <tbody>\n",
       "    <tr>\n",
       "      <th>3230</th>\n",
       "      <td>2020-12-03 16:45:00</td>\n",
       "      <td>20.892106</td>\n",
       "      <td>1.585394</td>\n",
       "      <td>38.647584</td>\n",
       "    </tr>\n",
       "    <tr>\n",
       "      <th>3231</th>\n",
       "      <td>2020-12-03 17:00:00</td>\n",
       "      <td>20.580980</td>\n",
       "      <td>1.668367</td>\n",
       "      <td>38.675744</td>\n",
       "    </tr>\n",
       "    <tr>\n",
       "      <th>3232</th>\n",
       "      <td>2020-12-03 17:15:00</td>\n",
       "      <td>20.123918</td>\n",
       "      <td>1.225187</td>\n",
       "      <td>39.274691</td>\n",
       "    </tr>\n",
       "    <tr>\n",
       "      <th>3233</th>\n",
       "      <td>2020-12-03 17:30:00</td>\n",
       "      <td>19.537491</td>\n",
       "      <td>2.223739</td>\n",
       "      <td>38.067693</td>\n",
       "    </tr>\n",
       "    <tr>\n",
       "      <th>3234</th>\n",
       "      <td>2020-12-03 17:45:00</td>\n",
       "      <td>18.844979</td>\n",
       "      <td>0.144607</td>\n",
       "      <td>36.294422</td>\n",
       "    </tr>\n",
       "    <tr>\n",
       "      <th>3235</th>\n",
       "      <td>2020-12-03 18:00:00</td>\n",
       "      <td>18.074659</td>\n",
       "      <td>-0.275864</td>\n",
       "      <td>37.001963</td>\n",
       "    </tr>\n",
       "    <tr>\n",
       "      <th>3236</th>\n",
       "      <td>2020-12-03 18:15:00</td>\n",
       "      <td>17.257868</td>\n",
       "      <td>-0.953487</td>\n",
       "      <td>34.955199</td>\n",
       "    </tr>\n",
       "  </tbody>\n",
       "</table>\n",
       "</div>"
      ],
      "text/plain": [
       "                      ds       yhat  yhat_lower  yhat_upper\n",
       "3230 2020-12-03 16:45:00  20.892106    1.585394   38.647584\n",
       "3231 2020-12-03 17:00:00  20.580980    1.668367   38.675744\n",
       "3232 2020-12-03 17:15:00  20.123918    1.225187   39.274691\n",
       "3233 2020-12-03 17:30:00  19.537491    2.223739   38.067693\n",
       "3234 2020-12-03 17:45:00  18.844979    0.144607   36.294422\n",
       "3235 2020-12-03 18:00:00  18.074659   -0.275864   37.001963\n",
       "3236 2020-12-03 18:15:00  17.257868   -0.953487   34.955199"
      ]
     },
     "execution_count": 12,
     "metadata": {},
     "output_type": "execute_result"
    }
   ],
   "source": [
    "X_tst_forecast = model.predict(X_tst)\n",
    "X_tst_forecast[['ds', 'yhat', 'yhat_lower', 'yhat_upper']].tail(7)"
   ]
  },
  {
   "cell_type": "code",
   "execution_count": 13,
   "metadata": {},
   "outputs": [
    {
     "data": {
      "image/png": "[encoded data removed]",
      "text/plain": [
       "<Figure size 1440x360 with 1 Axes>"
      ]
     },
     "metadata": {
      "needs_background": "light"
     },
     "output_type": "display_data"
    }
   ],
   "source": [
    "f, ax = plt.subplots(figsize=(14,5))\n",
    "f.set_figheight(5)\n",
    "f.set_figwidth(20)\n",
    "X_tst.plot(kind='line',x='ds', y='y', color='red', label='Test', ax=ax)\n",
    "X_tst_forecast.plot(kind='line',x='ds',y='yhat', color='green',label='Forecast', ax=ax)\n",
    "plt.title('Forecast vs Actuals')\n",
    "plt.show()"
   ]
  },
  {
   "cell_type": "code",
   "execution_count": 14,
   "metadata": {},
   "outputs": [
    {
     "name": "stdout",
     "output_type": "stream",
     "text": [
      "MAE 8.9104\n"
     ]
    }
   ],
   "source": [
    "from sklearn.metrics import mean_absolute_error,mean_squared_error\n",
    "mae = mean_absolute_error(X_tst['y'],X_tst_forecast['yhat'])\n",
    "print(\"MAE\",round(mae,4))"
   ]
  },
  {
   "cell_type": "code",
   "execution_count": 15,
   "metadata": {},
   "outputs": [
    {
     "name": "stdout",
     "output_type": "stream",
     "text": [
      "RMSE 13.0015\n"
     ]
    }
   ],
   "source": [
    "mse=mean_squared_error(X_tst['y'],X_tst_forecast['yhat'])\n",
    "print(\"RMSE\",round(np.sqrt(mse),4))"
   ]
  },
  {
   "cell_type": "code",
   "execution_count": 16,
   "metadata": {},
   "outputs": [
    {
     "name": "stdout",
     "output_type": "stream",
     "text": [
      "MAPE inf\n"
     ]
    },
    {
     "name": "stderr",
     "output_type": "stream",
     "text": [
      "/home/john/.conda/envs/py3-wsl/lib/python3.7/site-packages/ipykernel_launcher.py:3: RuntimeWarning: divide by zero encountered in true_divide\n",
      "  This is separate from the ipykernel package so we can avoid doing imports until\n"
     ]
    }
   ],
   "source": [
    "def mean_absolute_percentage_error(y_true, y_pred): \n",
    "    y_true, y_pred = np.array(y_true), np.array(y_pred)\n",
    "    return np.mean(np.abs((y_true - y_pred) / (y_true))) * 100\n",
    "mape = mean_absolute_percentage_error(X_tst['y'],X_tst_forecast['yhat'])\n",
    "print(\"MAPE\",round(mape,4))"
   ]
  },
  {
   "cell_type": "code",
   "execution_count": 17,
   "metadata": {},
   "outputs": [],
   "source": [
    "import holidays"
   ]
  },
  {
   "cell_type": "code",
   "execution_count": 18,
   "metadata": {},
   "outputs": [],
   "source": [
    "holiday = pd.DataFrame([])\n",
    "for date, name in sorted(holidays.Portugal(years=[2018,2019,2020]).items()):\n",
    "    holiday = holiday.append(pd.DataFrame({'ds': date, 'holiday': \"PT-Holidays\"}, index=[0]), ignore_index=True)\n",
    "holiday['ds'] = pd.to_datetime(holiday['ds'], format='%Y-%m-%d', errors='ignore')"
   ]
  },
  {
   "cell_type": "code",
   "execution_count": 19,
   "metadata": {},
   "outputs": [
    {
     "name": "stderr",
     "output_type": "stream",
     "text": [
      "INFO:fbprophet:Disabling yearly seasonality. Run prophet with yearly_seasonality=True to override this.\n"
     ]
    },
    {
     "data": {
      "text/plain": [
       "<fbprophet.forecaster.Prophet at 0x7f14b0b4cd90>"
      ]
     },
     "execution_count": 19,
     "metadata": {},
     "output_type": "execute_result"
    }
   ],
   "source": [
    "# Setup and train model with holidays\n",
    "model_with_holidays = Prophet(holidays=holiday)\n",
    "model_with_holidays.fit(X_tr)"
   ]
  },
  {
   "cell_type": "code",
   "execution_count": 20,
   "metadata": {},
   "outputs": [
    {
     "data": {
      "text/html": [
       "<div>\n",
       "<style scoped>\n",
       "    .dataframe tbody tr th:only-of-type {\n",
       "        vertical-align: middle;\n",
       "    }\n",
       "\n",
       "    .dataframe tbody tr th {\n",
       "        vertical-align: top;\n",
       "    }\n",
       "\n",
       "    .dataframe thead th {\n",
       "        text-align: right;\n",
       "    }\n",
       "</style>\n",
       "<table border=\"1\" class=\"dataframe\">\n",
       "  <thead>\n",
       "    <tr style=\"text-align: right;\">\n",
       "      <th></th>\n",
       "      <th>ds</th>\n",
       "      <th>yhat</th>\n",
       "      <th>yhat_lower</th>\n",
       "      <th>yhat_upper</th>\n",
       "    </tr>\n",
       "  </thead>\n",
       "  <tbody>\n",
       "    <tr>\n",
       "      <th>32207</th>\n",
       "      <td>2020-10-31 12:45:00</td>\n",
       "      <td>13.875456</td>\n",
       "      <td>1.099252</td>\n",
       "      <td>27.345774</td>\n",
       "    </tr>\n",
       "    <tr>\n",
       "      <th>32208</th>\n",
       "      <td>2020-10-31 13:00:00</td>\n",
       "      <td>13.133012</td>\n",
       "      <td>-1.019077</td>\n",
       "      <td>26.511146</td>\n",
       "    </tr>\n",
       "    <tr>\n",
       "      <th>32209</th>\n",
       "      <td>2020-10-31 13:15:00</td>\n",
       "      <td>12.557186</td>\n",
       "      <td>-0.043827</td>\n",
       "      <td>26.131859</td>\n",
       "    </tr>\n",
       "    <tr>\n",
       "      <th>32210</th>\n",
       "      <td>2020-10-31 13:30:00</td>\n",
       "      <td>12.163065</td>\n",
       "      <td>-0.475023</td>\n",
       "      <td>25.023926</td>\n",
       "    </tr>\n",
       "    <tr>\n",
       "      <th>32211</th>\n",
       "      <td>2020-10-31 13:45:00</td>\n",
       "      <td>11.954131</td>\n",
       "      <td>0.556775</td>\n",
       "      <td>25.914067</td>\n",
       "    </tr>\n",
       "    <tr>\n",
       "      <th>32212</th>\n",
       "      <td>2020-10-31 14:00:00</td>\n",
       "      <td>11.922486</td>\n",
       "      <td>-0.903765</td>\n",
       "      <td>24.622101</td>\n",
       "    </tr>\n",
       "    <tr>\n",
       "      <th>32213</th>\n",
       "      <td>2020-10-31 14:15:00</td>\n",
       "      <td>12.049720</td>\n",
       "      <td>-0.973451</td>\n",
       "      <td>24.784356</td>\n",
       "    </tr>\n",
       "  </tbody>\n",
       "</table>\n",
       "</div>"
      ],
      "text/plain": [
       "                       ds       yhat  yhat_lower  yhat_upper\n",
       "32207 2020-10-31 12:45:00  13.875456    1.099252   27.345774\n",
       "32208 2020-10-31 13:00:00  13.133012   -1.019077   26.511146\n",
       "32209 2020-10-31 13:15:00  12.557186   -0.043827   26.131859\n",
       "32210 2020-10-31 13:30:00  12.163065   -0.475023   25.023926\n",
       "32211 2020-10-31 13:45:00  11.954131    0.556775   25.914067\n",
       "32212 2020-10-31 14:00:00  11.922486   -0.903765   24.622101\n",
       "32213 2020-10-31 14:15:00  12.049720   -0.973451   24.784356"
      ]
     },
     "execution_count": 20,
     "metadata": {},
     "output_type": "execute_result"
    }
   ],
   "source": [
    "future = model_with_holidays.make_future_dataframe(periods=57, freq='15T')\n",
    "forecast = model_with_holidays.predict(future)\n",
    "forecast[['ds', 'yhat', 'yhat_lower', 'yhat_upper']].tail(7)"
   ]
  },
  {
   "cell_type": "code",
   "execution_count": 21,
   "metadata": {},
   "outputs": [],
   "source": [
    "#################3"
   ]
  },
  {
   "cell_type": "code",
   "execution_count": 22,
   "metadata": {},
   "outputs": [
    {
     "name": "stdout",
     "output_type": "stream",
     "text": [
      "Total Possible Models 45\n"
     ]
    }
   ],
   "source": [
    "from sklearn.model_selection import ParameterGrid\n",
    "params_grid = {\n",
    "               'changepoint_prior_scale':[0.1,0.2,0.4],\n",
    "              'holidays_prior_scale':[0.1,0.2,0.4],\n",
    "              'n_changepoints' : [100,150,200,250,300]}\n",
    "grid = ParameterGrid(params_grid)\n",
    "\n",
    "print('Total Possible Models',len(grid))"
   ]
  },
  {
   "cell_type": "code",
   "execution_count": 23,
   "metadata": {},
   "outputs": [
    {
     "name": "stdout",
     "output_type": "stream",
     "text": [
      "{'changepoint_prior_scale': 0.1, 'holidays_prior_scale': 0.1, 'n_changepoints': 100}\n",
      "Mean Absolute Error(MAE) -------------------- 9.246076389446085 \n",
      "Root Mean Squared Error (RMSE) -------------------- 13.4917\n",
      "{'changepoint_prior_scale': 0.1, 'holidays_prior_scale': 0.1, 'n_changepoints': 150}\n",
      "Mean Absolute Error(MAE) -------------------- 9.132529765675011 \n",
      "Root Mean Squared Error (RMSE) -------------------- 13.3233\n",
      "{'changepoint_prior_scale': 0.1, 'holidays_prior_scale': 0.1, 'n_changepoints': 200}\n",
      "Mean Absolute Error(MAE) -------------------- 8.679470097241088 \n",
      "Root Mean Squared Error (RMSE) -------------------- 12.6501\n",
      "{'changepoint_prior_scale': 0.1, 'holidays_prior_scale': 0.1, 'n_changepoints': 250}\n",
      "Mean Absolute Error(MAE) -------------------- 9.885454174537102 \n",
      "Root Mean Squared Error (RMSE) -------------------- 14.2721\n",
      "{'changepoint_prior_scale': 0.1, 'holidays_prior_scale': 0.1, 'n_changepoints': 300}\n",
      "Mean Absolute Error(MAE) -------------------- 9.068727523418604 \n",
      "Root Mean Squared Error (RMSE) -------------------- 13.2329\n",
      "{'changepoint_prior_scale': 0.1, 'holidays_prior_scale': 0.2, 'n_changepoints': 100}\n",
      "Mean Absolute Error(MAE) -------------------- 9.80663868153932 \n",
      "Root Mean Squared Error (RMSE) -------------------- 14.1515\n",
      "{'changepoint_prior_scale': 0.1, 'holidays_prior_scale': 0.2, 'n_changepoints': 150}\n",
      "Mean Absolute Error(MAE) -------------------- 9.265808974155043 \n",
      "Root Mean Squared Error (RMSE) -------------------- 13.5128\n",
      "{'changepoint_prior_scale': 0.1, 'holidays_prior_scale': 0.2, 'n_changepoints': 200}\n",
      "Mean Absolute Error(MAE) -------------------- 9.651006541164797 \n",
      "Root Mean Squared Error (RMSE) -------------------- 13.9875\n",
      "{'changepoint_prior_scale': 0.1, 'holidays_prior_scale': 0.2, 'n_changepoints': 250}\n",
      "Mean Absolute Error(MAE) -------------------- 9.167242926941043 \n",
      "Root Mean Squared Error (RMSE) -------------------- 13.3841\n",
      "{'changepoint_prior_scale': 0.1, 'holidays_prior_scale': 0.2, 'n_changepoints': 300}\n",
      "Mean Absolute Error(MAE) -------------------- 9.159014475209915 \n",
      "Root Mean Squared Error (RMSE) -------------------- 13.3546\n",
      "{'changepoint_prior_scale': 0.1, 'holidays_prior_scale': 0.4, 'n_changepoints': 100}\n",
      "Mean Absolute Error(MAE) -------------------- 9.078579800478689 \n",
      "Root Mean Squared Error (RMSE) -------------------- 13.2537\n",
      "{'changepoint_prior_scale': 0.1, 'holidays_prior_scale': 0.4, 'n_changepoints': 150}\n",
      "Mean Absolute Error(MAE) -------------------- 9.540905649535564 \n",
      "Root Mean Squared Error (RMSE) -------------------- 13.8544\n",
      "{'changepoint_prior_scale': 0.1, 'holidays_prior_scale': 0.4, 'n_changepoints': 200}\n",
      "Mean Absolute Error(MAE) -------------------- 8.989990836014371 \n",
      "Root Mean Squared Error (RMSE) -------------------- 13.1205\n",
      "{'changepoint_prior_scale': 0.1, 'holidays_prior_scale': 0.4, 'n_changepoints': 250}\n",
      "Mean Absolute Error(MAE) -------------------- 10.254499337682555 \n",
      "Root Mean Squared Error (RMSE) -------------------- 14.6968\n",
      "{'changepoint_prior_scale': 0.1, 'holidays_prior_scale': 0.4, 'n_changepoints': 300}\n",
      "Mean Absolute Error(MAE) -------------------- 9.224075640464742 \n",
      "Root Mean Squared Error (RMSE) -------------------- 13.4477\n",
      "{'changepoint_prior_scale': 0.2, 'holidays_prior_scale': 0.1, 'n_changepoints': 100}\n",
      "Mean Absolute Error(MAE) -------------------- 9.08093586864074 \n",
      "Root Mean Squared Error (RMSE) -------------------- 13.2505\n",
      "{'changepoint_prior_scale': 0.2, 'holidays_prior_scale': 0.1, 'n_changepoints': 150}\n",
      "Mean Absolute Error(MAE) -------------------- 9.305816659037518 \n",
      "Root Mean Squared Error (RMSE) -------------------- 13.5617\n",
      "{'changepoint_prior_scale': 0.2, 'holidays_prior_scale': 0.1, 'n_changepoints': 200}\n",
      "Mean Absolute Error(MAE) -------------------- 9.075177911258795 \n",
      "Root Mean Squared Error (RMSE) -------------------- 13.2416\n",
      "{'changepoint_prior_scale': 0.2, 'holidays_prior_scale': 0.1, 'n_changepoints': 250}\n",
      "Mean Absolute Error(MAE) -------------------- 8.943722531566186 \n",
      "Root Mean Squared Error (RMSE) -------------------- 13.055\n",
      "{'changepoint_prior_scale': 0.2, 'holidays_prior_scale': 0.1, 'n_changepoints': 300}\n",
      "Mean Absolute Error(MAE) -------------------- 9.423853537138859 \n",
      "Root Mean Squared Error (RMSE) -------------------- 13.715\n",
      "{'changepoint_prior_scale': 0.2, 'holidays_prior_scale': 0.2, 'n_changepoints': 100}\n",
      "Mean Absolute Error(MAE) -------------------- 9.54178576290635 \n",
      "Root Mean Squared Error (RMSE) -------------------- 13.8368\n",
      "{'changepoint_prior_scale': 0.2, 'holidays_prior_scale': 0.2, 'n_changepoints': 150}\n",
      "Mean Absolute Error(MAE) -------------------- 9.251326438225945 \n",
      "Root Mean Squared Error (RMSE) -------------------- 13.4837\n",
      "{'changepoint_prior_scale': 0.2, 'holidays_prior_scale': 0.2, 'n_changepoints': 200}\n",
      "Mean Absolute Error(MAE) -------------------- 8.907346157107789 \n",
      "Root Mean Squared Error (RMSE) -------------------- 13.0054\n",
      "{'changepoint_prior_scale': 0.2, 'holidays_prior_scale': 0.2, 'n_changepoints': 250}\n",
      "Mean Absolute Error(MAE) -------------------- 9.48092925851256 \n",
      "Root Mean Squared Error (RMSE) -------------------- 13.7745\n",
      "{'changepoint_prior_scale': 0.2, 'holidays_prior_scale': 0.2, 'n_changepoints': 300}\n",
      "Mean Absolute Error(MAE) -------------------- 9.152569794951795 \n",
      "Root Mean Squared Error (RMSE) -------------------- 13.3469\n",
      "{'changepoint_prior_scale': 0.2, 'holidays_prior_scale': 0.4, 'n_changepoints': 100}\n",
      "Mean Absolute Error(MAE) -------------------- 8.777161854782387 \n",
      "Root Mean Squared Error (RMSE) -------------------- 12.832\n",
      "{'changepoint_prior_scale': 0.2, 'holidays_prior_scale': 0.4, 'n_changepoints': 150}\n",
      "Mean Absolute Error(MAE) -------------------- 9.072284229213777 \n",
      "Root Mean Squared Error (RMSE) -------------------- 13.2341\n",
      "{'changepoint_prior_scale': 0.2, 'holidays_prior_scale': 0.4, 'n_changepoints': 200}\n",
      "Mean Absolute Error(MAE) -------------------- 9.15176749677342 \n",
      "Root Mean Squared Error (RMSE) -------------------- 13.3554\n",
      "{'changepoint_prior_scale': 0.2, 'holidays_prior_scale': 0.4, 'n_changepoints': 250}\n",
      "Mean Absolute Error(MAE) -------------------- 9.330528137839131 \n",
      "Root Mean Squared Error (RMSE) -------------------- 13.5746\n",
      "{'changepoint_prior_scale': 0.2, 'holidays_prior_scale': 0.4, 'n_changepoints': 300}\n",
      "Mean Absolute Error(MAE) -------------------- 9.281216055170846 \n",
      "Root Mean Squared Error (RMSE) -------------------- 13.5242\n",
      "{'changepoint_prior_scale': 0.4, 'holidays_prior_scale': 0.1, 'n_changepoints': 100}\n",
      "Mean Absolute Error(MAE) -------------------- 9.146729032094658 \n",
      "Root Mean Squared Error (RMSE) -------------------- 13.3351\n",
      "{'changepoint_prior_scale': 0.4, 'holidays_prior_scale': 0.1, 'n_changepoints': 150}\n",
      "Mean Absolute Error(MAE) -------------------- 9.116815053201622 \n",
      "Root Mean Squared Error (RMSE) -------------------- 13.3116\n",
      "{'changepoint_prior_scale': 0.4, 'holidays_prior_scale': 0.1, 'n_changepoints': 200}\n",
      "Mean Absolute Error(MAE) -------------------- 9.880776638144688 \n",
      "Root Mean Squared Error (RMSE) -------------------- 14.2712\n",
      "{'changepoint_prior_scale': 0.4, 'holidays_prior_scale': 0.1, 'n_changepoints': 250}\n",
      "Mean Absolute Error(MAE) -------------------- 9.187141345865854 \n",
      "Root Mean Squared Error (RMSE) -------------------- 13.3922\n",
      "{'changepoint_prior_scale': 0.4, 'holidays_prior_scale': 0.1, 'n_changepoints': 300}\n",
      "Mean Absolute Error(MAE) -------------------- 9.436881784928426 \n",
      "Root Mean Squared Error (RMSE) -------------------- 13.7393\n",
      "{'changepoint_prior_scale': 0.4, 'holidays_prior_scale': 0.2, 'n_changepoints': 100}\n",
      "Mean Absolute Error(MAE) -------------------- 9.418756978423515 \n",
      "Root Mean Squared Error (RMSE) -------------------- 13.7119\n",
      "{'changepoint_prior_scale': 0.4, 'holidays_prior_scale': 0.2, 'n_changepoints': 150}\n",
      "Mean Absolute Error(MAE) -------------------- 10.015442722519529 \n",
      "Root Mean Squared Error (RMSE) -------------------- 14.4119\n",
      "{'changepoint_prior_scale': 0.4, 'holidays_prior_scale': 0.2, 'n_changepoints': 200}\n",
      "Mean Absolute Error(MAE) -------------------- 9.373574180104097 \n",
      "Root Mean Squared Error (RMSE) -------------------- 13.6596\n",
      "{'changepoint_prior_scale': 0.4, 'holidays_prior_scale': 0.2, 'n_changepoints': 250}\n",
      "Mean Absolute Error(MAE) -------------------- 9.80073572364423 \n",
      "Root Mean Squared Error (RMSE) -------------------- 14.1764\n",
      "{'changepoint_prior_scale': 0.4, 'holidays_prior_scale': 0.2, 'n_changepoints': 300}\n",
      "Mean Absolute Error(MAE) -------------------- 8.834832570780458 \n",
      "Root Mean Squared Error (RMSE) -------------------- 12.8992\n",
      "{'changepoint_prior_scale': 0.4, 'holidays_prior_scale': 0.4, 'n_changepoints': 100}\n",
      "Mean Absolute Error(MAE) -------------------- 9.44986787517894 \n",
      "Root Mean Squared Error (RMSE) -------------------- 13.7373\n",
      "{'changepoint_prior_scale': 0.4, 'holidays_prior_scale': 0.4, 'n_changepoints': 150}\n",
      "Mean Absolute Error(MAE) -------------------- 9.150187575560988 \n",
      "Root Mean Squared Error (RMSE) -------------------- 13.333\n",
      "{'changepoint_prior_scale': 0.4, 'holidays_prior_scale': 0.4, 'n_changepoints': 200}\n",
      "Mean Absolute Error(MAE) -------------------- 8.984926828296102 \n",
      "Root Mean Squared Error (RMSE) -------------------- 13.1217\n",
      "{'changepoint_prior_scale': 0.4, 'holidays_prior_scale': 0.4, 'n_changepoints': 250}\n",
      "Mean Absolute Error(MAE) -------------------- 9.03841028290045 \n",
      "Root Mean Squared Error (RMSE) -------------------- 13.1852\n",
      "{'changepoint_prior_scale': 0.4, 'holidays_prior_scale': 0.4, 'n_changepoints': 300}\n",
      "Mean Absolute Error(MAE) -------------------- 9.725729361171831 \n",
      "Root Mean Squared Error (RMSE) -------------------- 14.0802\n"
     ]
    }
   ],
   "source": [
    "strt = '2020-10-31'\n",
    "end='2020-12-04'\n",
    "model_parameters = pd.DataFrame(columns = ['MAE','Parameters'])\n",
    "for p in grid:\n",
    "    test = pd.DataFrame()\n",
    "    print(p)\n",
    "    random.seed(0)\n",
    "    train_model =Prophet(changepoint_prior_scale = p['changepoint_prior_scale'],\n",
    "                         holidays_prior_scale = p['holidays_prior_scale'],\n",
    "                         n_changepoints = p['n_changepoints'],\n",
    "                         seasonality_mode = 'multiplicative',\n",
    "                         weekly_seasonality=True,\n",
    "                         daily_seasonality = True,\n",
    "                         yearly_seasonality = True,\n",
    "                         #holidays=holiday, \n",
    "                         interval_width=0.95)\n",
    "    train_model.add_country_holidays(country_name='PT')\n",
    "    train_model.fit(X_tr)\n",
    "    train_forecast = train_model.make_future_dataframe(periods=3237, freq='15T',include_history = False)\n",
    "    train_forecast = train_model.predict(train_forecast)\n",
    "    test=train_forecast[['ds','yhat']]\n",
    "    Actual = df[(df['ds']>strt) & (df['ds']<=end)]\n",
    "    MAE = mean_absolute_error(Actual['y'],abs(test['yhat']))\n",
    "    mse=mean_squared_error(Actual['y'],abs(test['yhat']))\n",
    "    print('Mean Absolute Error(MAE)',\"-\"*20,MAE,\"\\nRoot Mean Squared Error (RMSE)\",\"-\"*20,round(np.sqrt(mse),4))\n",
    "    model_parameters = model_parameters.append({'MAE':MAE,'Parameters':p},ignore_index=True)"
   ]
  },
  {
   "cell_type": "code",
   "execution_count": 32,
   "metadata": {},
   "outputs": [
    {
     "data": {
      "text/plain": [
       "0     {'changepoint_prior_scale': 0.1, 'holidays_pri...\n",
       "1     {'changepoint_prior_scale': 0.2, 'holidays_pri...\n",
       "2     {'changepoint_prior_scale': 0.4, 'holidays_pri...\n",
       "3     {'changepoint_prior_scale': 0.2, 'holidays_pri...\n",
       "4     {'changepoint_prior_scale': 0.2, 'holidays_pri...\n",
       "5     {'changepoint_prior_scale': 0.4, 'holidays_pri...\n",
       "6     {'changepoint_prior_scale': 0.1, 'holidays_pri...\n",
       "7     {'changepoint_prior_scale': 0.4, 'holidays_pri...\n",
       "8     {'changepoint_prior_scale': 0.1, 'holidays_pri...\n",
       "9     {'changepoint_prior_scale': 0.2, 'holidays_pri...\n",
       "10    {'changepoint_prior_scale': 0.2, 'holidays_pri...\n",
       "11    {'changepoint_prior_scale': 0.1, 'holidays_pri...\n",
       "12    {'changepoint_prior_scale': 0.2, 'holidays_pri...\n",
       "13    {'changepoint_prior_scale': 0.4, 'holidays_pri...\n",
       "14    {'changepoint_prior_scale': 0.1, 'holidays_pri...\n",
       "15    {'changepoint_prior_scale': 0.4, 'holidays_pri...\n",
       "16    {'changepoint_prior_scale': 0.4, 'holidays_pri...\n",
       "17    {'changepoint_prior_scale': 0.2, 'holidays_pri...\n",
       "18    {'changepoint_prior_scale': 0.2, 'holidays_pri...\n",
       "19    {'changepoint_prior_scale': 0.1, 'holidays_pri...\n",
       "20    {'changepoint_prior_scale': 0.1, 'holidays_pri...\n",
       "21    {'changepoint_prior_scale': 0.4, 'holidays_pri...\n",
       "22    {'changepoint_prior_scale': 0.1, 'holidays_pri...\n",
       "23    {'changepoint_prior_scale': 0.1, 'holidays_pri...\n",
       "24    {'changepoint_prior_scale': 0.2, 'holidays_pri...\n",
       "25    {'changepoint_prior_scale': 0.1, 'holidays_pri...\n",
       "26    {'changepoint_prior_scale': 0.2, 'holidays_pri...\n",
       "27    {'changepoint_prior_scale': 0.2, 'holidays_pri...\n",
       "28    {'changepoint_prior_scale': 0.2, 'holidays_pri...\n",
       "29    {'changepoint_prior_scale': 0.4, 'holidays_pri...\n",
       "30    {'changepoint_prior_scale': 0.4, 'holidays_pri...\n",
       "31    {'changepoint_prior_scale': 0.2, 'holidays_pri...\n",
       "32    {'changepoint_prior_scale': 0.4, 'holidays_pri...\n",
       "33    {'changepoint_prior_scale': 0.4, 'holidays_pri...\n",
       "34    {'changepoint_prior_scale': 0.2, 'holidays_pri...\n",
       "35    {'changepoint_prior_scale': 0.1, 'holidays_pri...\n",
       "36    {'changepoint_prior_scale': 0.2, 'holidays_pri...\n",
       "37    {'changepoint_prior_scale': 0.1, 'holidays_pri...\n",
       "38    {'changepoint_prior_scale': 0.4, 'holidays_pri...\n",
       "39    {'changepoint_prior_scale': 0.4, 'holidays_pri...\n",
       "40    {'changepoint_prior_scale': 0.1, 'holidays_pri...\n",
       "41    {'changepoint_prior_scale': 0.4, 'holidays_pri...\n",
       "42    {'changepoint_prior_scale': 0.1, 'holidays_pri...\n",
       "43    {'changepoint_prior_scale': 0.4, 'holidays_pri...\n",
       "44    {'changepoint_prior_scale': 0.1, 'holidays_pri...\n",
       "Name: Parameters, dtype: object"
      ]
     },
     "execution_count": 32,
     "metadata": {},
     "output_type": "execute_result"
    }
   ],
   "source": [
    "parameters = model_parameters.sort_values(by=['MAE'])\n",
    "parameters = parameters.reset_index(drop=True)\n"
   ]
  },
  {
   "cell_type": "code",
   "execution_count": null,
   "metadata": {},
   "outputs": [],
   "source": [
    "#{'changepoint_prior_scale': 0.1, 'holidays_pri...\n"
   ]
  }
 ],
 "metadata": {
  "kernelspec": {
   "display_name": "Python 3 (WSL)",
   "language": "python",
   "name": "py3-wsl"
  },
  "language_info": {
   "codemirror_mode": {
    "name": "ipython",
    "version": 3
   },
   "file_extension": ".py",
   "mimetype": "text/x-python",
   "name": "python",
   "nbconvert_exporter": "python",
   "pygments_lexer": "ipython3",
   "version": "3.7.8"
  }
 },
 "nbformat": 4,
 "nbformat_minor": 4
}
